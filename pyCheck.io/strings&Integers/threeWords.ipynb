{
 "cells": [
  {
   "cell_type": "markdown",
   "metadata": {},
   "source": [
    "# Three Words\n",
    "### Difficulty: Elementary\n",
    "\n",
    "#### Let's teach the Robots to distinguish words and numbers.\n",
    "#### You are given a string with words and numbers separated by whitespaces (one space). The words contains only letters. You should check if the string contains three words in succession. For example, the string \"start 5 one two three 7 end\" contains three words in succession.\n",
    "\n",
    "Input: A string (str) with words.\n",
    "Output: Logic value (bool).\n",
    "\n",
    "### Examples:\n",
    "assert checkio(\"Hello World hello\") == True <br>\n",
    "assert checkio(\"He is 123 man\") == False <br>\n",
    "assert checkio(\"1 2 3 4\") == False <br>\n",
    "assert checkio(\"bla bla bla bla\") == True\n",
    "\n",
    "#### Precondition: \n",
    "The input contains words and/or numbers. There are no mixed words (letters and digits combined). <br>\n",
    "0 < len(words) < 100"
   ]
  },
  {
   "cell_type": "code",
   "execution_count": 1,
   "metadata": {},
   "outputs": [],
   "source": [
    "def checkio(words: str) -> bool:\n",
    "    counter = 0\n",
    "    words = words.split()\n",
    "    for word in words:\n",
    "        if word.isalpha():\n",
    "            counter += 1\n",
    "            if counter == 3:\n",
    "                return True\n",
    "        else:\n",
    "            counter = 0\n",
    "    return False"
   ]
  },
  {
   "cell_type": "code",
   "execution_count": 2,
   "metadata": {},
   "outputs": [
    {
     "name": "stdout",
     "output_type": "stream",
     "text": [
      "Example:\n",
      "True\n"
     ]
    }
   ],
   "source": [
    "print(\"Example:\")\n",
    "print(checkio(\"Hello World hello\"))"
   ]
  }
 ],
 "metadata": {
  "kernelspec": {
   "display_name": "Python 3",
   "language": "python",
   "name": "python3"
  },
  "language_info": {
   "codemirror_mode": {
    "name": "ipython",
    "version": 3
   },
   "file_extension": ".py",
   "mimetype": "text/x-python",
   "name": "python",
   "nbconvert_exporter": "python",
   "pygments_lexer": "ipython3",
   "version": "3.10.5"
  }
 },
 "nbformat": 4,
 "nbformat_minor": 2
}
