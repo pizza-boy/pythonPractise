{
 "cells": [
  {
   "cell_type": "markdown",
   "metadata": {},
   "source": [
    "# Between Markers (simplified)\n",
    "### Difficulty: Elementary\n",
    "\n",
    "#### You are given a string and two markers (the initial one and final). You have to find a substring enclosed between these two markers. But there are a few important conditions.\n",
    "\n",
    "#### The initial and final markers are always different.\n",
    "#### The initial and final markers are always 1 char size.\n",
    "#### The initial and final markers always exist in a string and go one after another.\n",
    "\n",
    "Input: Three arguments. All of them are strings (str). The second and third arguments are the initial and final markers. <br>\n",
    "Output: A string (str).\n",
    "\n",
    "### Examples:\n",
    "assert between_markers(\"What is >apple<\", \">\", \"<\") == \"apple\" <br>\n",
    "assert between_markers(\"What is [apple]\", \"[\", \"]\") == \"apple\" <br>\n",
    "assert between_markers(\"What is ><\", \">\", \"<\") == \"\" <br>\n",
    "assert between_markers(\"[an apple]\", \"[\", \"]\") == \"an apple\"\n",
    "\n",
    "#### Precondition: \n",
    "There can't be more than one final and one initial markers."
   ]
  },
  {
   "cell_type": "code",
   "execution_count": 1,
   "metadata": {},
   "outputs": [],
   "source": [
    "def between_markers(text: str, start: str, end: str) -> str:\n",
    "    starti = text.find(start)\n",
    "    endi = text.find(end)\n",
    "    substring = text[starti+1:endi]\n",
    "    return substring"
   ]
  },
  {
   "cell_type": "code",
   "execution_count": 2,
   "metadata": {},
   "outputs": [
    {
     "name": "stdout",
     "output_type": "stream",
     "text": [
      "Example:\n",
      "apple\n"
     ]
    }
   ],
   "source": [
    "print(\"Example:\")\n",
    "print(between_markers(\"What is >apple<\", \">\", \"<\"))"
   ]
  }
 ],
 "metadata": {
  "kernelspec": {
   "display_name": "Python 3",
   "language": "python",
   "name": "python3"
  },
  "language_info": {
   "codemirror_mode": {
    "name": "ipython",
    "version": 3
   },
   "file_extension": ".py",
   "mimetype": "text/x-python",
   "name": "python",
   "nbconvert_exporter": "python",
   "pygments_lexer": "ipython3",
   "version": "3.10.5"
  }
 },
 "nbformat": 4,
 "nbformat_minor": 2
}
