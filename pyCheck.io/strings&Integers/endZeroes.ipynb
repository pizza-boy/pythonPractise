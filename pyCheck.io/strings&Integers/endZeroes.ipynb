{
 "cells": [
  {
   "cell_type": "markdown",
   "metadata": {},
   "source": [
    "# End Zeros\n",
    "### Difficulty: Elementary\n",
    "\n",
    "#### Try to find out how many zeros a given number has at the end.\n",
    "\n",
    "Input: A non-negative integer (int).<br>\n",
    "Output: An integer (int).\n",
    "\n",
    "### Examples:\n",
    "assert end_zeros(0) == 1<br>\n",
    "assert end_zeros(1) == 0,<br>\n",
    "assert end_zeros(10) == 1<br>\n",
    "assert end_zeros(101) == 0"
   ]
  },
  {
   "cell_type": "code",
   "execution_count": 12,
   "metadata": {},
   "outputs": [],
   "source": [
    "def end_zeros(a: int) -> int:\n",
    "    stra = str(a)\n",
    "    counter = 0\n",
    "    for i in stra[::-1]:\n",
    "        if int(i) == 0:\n",
    "            counter += 1\n",
    "        else:\n",
    "            break\n",
    "    \n",
    "    return counter"
   ]
  },
  {
   "cell_type": "code",
   "execution_count": 14,
   "metadata": {},
   "outputs": [
    {
     "name": "stdout",
     "output_type": "stream",
     "text": [
      "Example:\n",
      "0\n"
     ]
    }
   ],
   "source": [
    "print(\"Example:\")\n",
    "print(end_zeros(101))"
   ]
  }
 ],
 "metadata": {
  "kernelspec": {
   "display_name": "Python 3",
   "language": "python",
   "name": "python3"
  },
  "language_info": {
   "codemirror_mode": {
    "name": "ipython",
    "version": 3
   },
   "file_extension": ".py",
   "mimetype": "text/x-python",
   "name": "python",
   "nbconvert_exporter": "python",
   "pygments_lexer": "ipython3",
   "version": "3.10.5"
  }
 },
 "nbformat": 4,
 "nbformat_minor": 2
}
