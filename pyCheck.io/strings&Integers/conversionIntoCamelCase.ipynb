{
 "cells": [
  {
   "cell_type": "markdown",
   "metadata": {},
   "source": [
    "# Conversion into CamelCase\n",
    "### Difficulty: Elementary+\n",
    "\n",
    "##### Your mission is to convert the name of a function from the Python format (for example \"my_function_name\") into CamelCase (\"MyFunctionName\") where the first char of every word is in uppercase and all words are concatenated without any intervening characters.\n",
    "\n",
    "Input: A function name as a string (str).<br>\n",
    "Output: The same string (str), but in CamelCase.\n",
    "\n",
    "### Examples:\n",
    "assert to_camel_case(\"my_function_name\") == \"MyFunctionName\"<br>\n",
    "assert to_camel_case(\"i_phone\") == \"IPhone\"\n",
    "\n",
    "#### Precondition:\n",
    "0 < len(string) <= 100 <br>\n",
    "Input data won't contain any numbers."
   ]
  },
  {
   "cell_type": "code",
   "execution_count": 26,
   "metadata": {},
   "outputs": [],
   "source": [
    "def to_camel_case(name: str) -> str:\n",
    "    res = name[0].upper()\n",
    "    i = 1\n",
    "    while(i < len(name)):\n",
    "        if name[i] == '_':\n",
    "            res += name[i+1].upper()\n",
    "            i += 1\n",
    "        else:\n",
    "            res += name[i]\n",
    "        i += 1\n",
    "\n",
    "    return res"
   ]
  },
  {
   "cell_type": "code",
   "execution_count": 28,
   "metadata": {},
   "outputs": [
    {
     "name": "stdout",
     "output_type": "stream",
     "text": [
      "Example:\n",
      "IPhone\n"
     ]
    }
   ],
   "source": [
    "print(\"Example:\")\n",
    "print(to_camel_case(\"i_phone\"))"
   ]
  }
 ],
 "metadata": {
  "kernelspec": {
   "display_name": "Python 3",
   "language": "python",
   "name": "python3"
  },
  "language_info": {
   "codemirror_mode": {
    "name": "ipython",
    "version": 3
   },
   "file_extension": ".py",
   "mimetype": "text/x-python",
   "name": "python",
   "nbconvert_exporter": "python",
   "pygments_lexer": "ipython3",
   "version": "3.10.5"
  }
 },
 "nbformat": 4,
 "nbformat_minor": 2
}
