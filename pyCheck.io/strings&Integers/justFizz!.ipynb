{
 "cells": [
  {
   "cell_type": "markdown",
   "metadata": {},
   "source": [
    "# Just Fizz!\n",
    "### Difficulty: Elementary+\n",
    "\n",
    "#### You should write a function that will receive a positive integer and return: \"Fizz\" if the number is divisible by 3 (3, 6, 9 ...) otherwise convert the given number to a string (2 -> \"2\").\n",
    "\n",
    "Input: An integer (int). <br>\n",
    "Output: A string (str).\n",
    "\n",
    "### Examples:\n",
    "assert checkio(15) == \"Fizz\" <br>\n",
    "assert checkio(6) == \"Fizz\" <br>\n",
    "assert checkio(10) == \"10\" <br>\n",
    "assert checkio(7) == \"7\"  <br>"
   ]
  },
  {
   "cell_type": "code",
   "execution_count": 1,
   "metadata": {},
   "outputs": [],
   "source": [
    "def checkio(num: int) -> str:\n",
    "    if num % 3 == 0:\n",
    "        return \"Fizz\"\n",
    "    else:\n",
    "        num = str(num)\n",
    "        return num"
   ]
  },
  {
   "cell_type": "code",
   "execution_count": 2,
   "metadata": {},
   "outputs": [
    {
     "name": "stdout",
     "output_type": "stream",
     "text": [
      "Example:\n",
      "Fizz\n"
     ]
    }
   ],
   "source": [
    "print(\"Example:\")\n",
    "print(checkio(3))"
   ]
  }
 ],
 "metadata": {
  "kernelspec": {
   "display_name": "Python 3",
   "language": "python",
   "name": "python3"
  },
  "language_info": {
   "codemirror_mode": {
    "name": "ipython",
    "version": 3
   },
   "file_extension": ".py",
   "mimetype": "text/x-python",
   "name": "python",
   "nbconvert_exporter": "python",
   "pygments_lexer": "ipython3",
   "version": "3.10.5"
  }
 },
 "nbformat": 4,
 "nbformat_minor": 2
}
