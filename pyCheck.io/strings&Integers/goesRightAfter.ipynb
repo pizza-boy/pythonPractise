{
 "cells": [
  {
   "cell_type": "markdown",
   "metadata": {},
   "source": [
    "# Goes Right After\n",
    "### Difficulty: Elementary+\n",
    "\n",
    "#### In a given word you need to check if one symbol goes only right after another.\n",
    "\n",
    "#### Cases you should expect while solving this challenge:\n",
    "- one of the symbols is not in the given word - your function should return False;\n",
    "- any symbol appears in a word more than once - use only the first one;\n",
    "- two symbols are the same - your function should return False;\n",
    "- the condition is case sensitive, which means 'a' and 'A' are two different symbols.\n",
    "\n",
    "Input: Three arguments. The first one is a given string (str), second is a symbol (str) that should go first, and the third is a symbol (str) that should go after the first one. <br>\n",
    "Output: A logic value (bool).\n",
    "\n",
    "### Examples:\n",
    "assert goes_after(\"world\", \"w\", \"o\") == True<br>\n",
    "assert goes_after(\"world\", \"w\", \"r\") == False <br>\n",
    "assert goes_after(\"world\", \"l\", \"o\") == False <br>\n",
    "assert goes_after(\"panorama\", \"a\", \"n\") == True"
   ]
  },
  {
   "cell_type": "code",
   "execution_count": 1,
   "metadata": {},
   "outputs": [],
   "source": [
    "# Taken from mission Goes Right After (simplified)\n",
    "\n",
    "def goes_after(word: str, first: str, second: str) -> bool:\n",
    "    firsti = word.find(first)\n",
    "    secondi = word.find(second)\n",
    "    if firsti == -1 or secondi == -1:\n",
    "        return False\n",
    "    elif firsti + 1 == secondi:\n",
    "        return True\n",
    "    return False"
   ]
  },
  {
   "cell_type": "code",
   "execution_count": 2,
   "metadata": {},
   "outputs": [
    {
     "name": "stdout",
     "output_type": "stream",
     "text": [
      "Example:\n",
      "True\n"
     ]
    }
   ],
   "source": [
    "print(\"Example:\")\n",
    "print(goes_after(\"world\", \"w\", \"o\"))"
   ]
  }
 ],
 "metadata": {
  "kernelspec": {
   "display_name": "Python 3",
   "language": "python",
   "name": "python3"
  },
  "language_info": {
   "codemirror_mode": {
    "name": "ipython",
    "version": 3
   },
   "file_extension": ".py",
   "mimetype": "text/x-python",
   "name": "python",
   "nbconvert_exporter": "python",
   "pygments_lexer": "ipython3",
   "version": "3.10.5"
  }
 },
 "nbformat": 4,
 "nbformat_minor": 2
}
