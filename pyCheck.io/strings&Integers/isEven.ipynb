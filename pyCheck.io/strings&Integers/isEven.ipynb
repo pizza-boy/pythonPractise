{
 "cells": [
  {
   "cell_type": "markdown",
   "metadata": {},
   "source": [
    "# Is Even\n",
    "### Difficulty: Elementary\n",
    "\n",
    "## Check if the given number is even or not. Your function should return True if the number is even, and False if the number is odd.\n",
    "Input: An integer (int). <br>\n",
    "Output: Logic value (bool).\n",
    "\n",
    "### Examples:\n",
    "assert is_even(2) == True <br>\n",
    "assert is_even(5) == False <br>\n",
    "assert is_even(0) == True <br>"
   ]
  },
  {
   "cell_type": "markdown",
   "metadata": {},
   "source": []
  },
  {
   "cell_type": "code",
   "execution_count": 1,
   "metadata": {},
   "outputs": [],
   "source": [
    "def is_even(num: int) -> bool:\n",
    "    if num % 2 == 0:\n",
    "        return True\n",
    "    else:\n",
    "        return False"
   ]
  },
  {
   "cell_type": "code",
   "execution_count": 2,
   "metadata": {},
   "outputs": [
    {
     "name": "stdout",
     "output_type": "stream",
     "text": [
      "Example:\n",
      "True\n"
     ]
    }
   ],
   "source": [
    "print(\"Example:\")\n",
    "print(is_even(2))"
   ]
  }
 ],
 "metadata": {
  "kernelspec": {
   "display_name": "Python 3",
   "language": "python",
   "name": "python3"
  },
  "language_info": {
   "codemirror_mode": {
    "name": "ipython",
    "version": 3
   },
   "file_extension": ".py",
   "mimetype": "text/x-python",
   "name": "python",
   "nbconvert_exporter": "python",
   "pygments_lexer": "ipython3",
   "version": "3.10.5"
  }
 },
 "nbformat": 4,
 "nbformat_minor": 2
}
