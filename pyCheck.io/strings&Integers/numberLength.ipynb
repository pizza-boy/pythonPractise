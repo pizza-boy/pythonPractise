{
 "cells": [
  {
   "cell_type": "markdown",
   "metadata": {},
   "source": [
    "# Number Length\n",
    "### Difficulty: Elementary\n",
    "\n",
    "#### You have a non-negative integer. Try to find out how many digits it has.\n",
    "\n",
    "Input: A non-negative integer (int). <br>\n",
    "Output: An integer (int).\n",
    "\n",
    "### Examples:\n",
    "assert number_length(10) == 2 <br>\n",
    "assert number_length(0) == 1 <br>\n",
    "assert number_length(4) == 1 <br>\n",
    "assert number_length(44) == 2 <br>"
   ]
  },
  {
   "cell_type": "code",
   "execution_count": 1,
   "metadata": {},
   "outputs": [],
   "source": [
    "def number_length(value: int) -> int:\n",
    "    value_str = str(value)\n",
    "    return len(value_str)"
   ]
  },
  {
   "cell_type": "code",
   "execution_count": 2,
   "metadata": {},
   "outputs": [
    {
     "name": "stdout",
     "output_type": "stream",
     "text": [
      "Example:\n",
      "2\n"
     ]
    }
   ],
   "source": [
    "print(\"Example:\")\n",
    "print(number_length(10))"
   ]
  }
 ],
 "metadata": {
  "kernelspec": {
   "display_name": "Python 3",
   "language": "python",
   "name": "python3"
  },
  "language_info": {
   "codemirror_mode": {
    "name": "ipython",
    "version": 3
   },
   "file_extension": ".py",
   "mimetype": "text/x-python",
   "name": "python",
   "nbconvert_exporter": "python",
   "pygments_lexer": "ipython3",
   "version": "3.10.5"
  }
 },
 "nbformat": 4,
 "nbformat_minor": 2
}
