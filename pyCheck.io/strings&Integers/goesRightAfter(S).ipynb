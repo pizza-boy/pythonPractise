{
 "cells": [
  {
   "cell_type": "markdown",
   "metadata": {},
   "source": [
    "# Goes Right After (simplified)\n",
    "### Difficulty: Elementary+\n",
    "\n",
    "#### In a given string you need to check if one symbol goes right after another. If so - return True, otherwise - False.\n",
    "#### If one of the symbols is not in the given word - your function should return False. If two seeking symbols are the same - your function should return False.\n",
    "\n",
    "Input: Three arguments. The first one is a given string (str), second is a symbol (str) that should go first, and the third is a symbol (str) that should go after the first one. <br>\n",
    "Output: A logic value (bool).\n",
    "\n",
    "### Examples:\n",
    "assert goes_after(\"world\", \"w\", \"o\") == True <br>\n",
    "assert goes_after(\"world\", \"w\", \"r\") == False <br>\n",
    "assert goes_after(\"world\", \"l\", \"o\") == False <br>\n",
    "assert goes_after(\"list\", \"l\", \"o\") == False\n",
    "\n",
    "#### Preconditions: \n",
    "all symbols are lowercased and unique."
   ]
  },
  {
   "cell_type": "code",
   "execution_count": 1,
   "metadata": {},
   "outputs": [],
   "source": [
    "def goes_after(word: str, first: str, second: str) -> bool:\n",
    "    firsti = word.find(first)\n",
    "    secondi = word.find(second)\n",
    "    if firsti + 1 == secondi:\n",
    "        return True\n",
    "    return False"
   ]
  },
  {
   "cell_type": "code",
   "execution_count": 2,
   "metadata": {},
   "outputs": [
    {
     "name": "stdout",
     "output_type": "stream",
     "text": [
      "Example:\n",
      "True\n"
     ]
    }
   ],
   "source": [
    "print(\"Example:\")\n",
    "print(goes_after(\"world\", \"w\", \"o\"))"
   ]
  }
 ],
 "metadata": {
  "kernelspec": {
   "display_name": "Python 3",
   "language": "python",
   "name": "python3"
  },
  "language_info": {
   "codemirror_mode": {
    "name": "ipython",
    "version": 3
   },
   "file_extension": ".py",
   "mimetype": "text/x-python",
   "name": "python",
   "nbconvert_exporter": "python",
   "pygments_lexer": "ipython3",
   "version": "3.10.5"
  }
 },
 "nbformat": 4,
 "nbformat_minor": 2
}
