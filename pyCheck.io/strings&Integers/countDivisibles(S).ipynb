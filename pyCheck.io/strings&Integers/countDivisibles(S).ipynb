{
 "cells": [
  {
   "cell_type": "markdown",
   "metadata": {},
   "source": [
    "# Count Divisibles in Range (simplified)\n",
    "### Difficulty: Elementary+\n",
    "\n",
    "#### Given two integers, n and k, the task is to count how many numbers between 1 and n (inclusive) are divisible by k.\n",
    "\n",
    "Input: Two integers (int).<br>\n",
    "Output: Integer (int).\n",
    "\n",
    "### Examples:\n",
    "assert count_divisible(10, 2) == 5 <br>\n",
    "assert count_divisible(10, 3) == 3 <br>\n",
    "assert count_divisible(10, 5) == 2 <br>\n",
    "assert count_divisible(15, 4) == 3\n",
    "\n",
    "### Precondition:\n",
    "1 <= k <= n <= 10^9."
   ]
  },
  {
   "cell_type": "code",
   "execution_count": 4,
   "metadata": {},
   "outputs": [],
   "source": [
    "def count_divisible(n: int, k: int) -> int:\n",
    "    count = 0\n",
    "    for i in range(1, n+1):\n",
    "        if i % k == 0:\n",
    "            count += 1\n",
    "        else:\n",
    "            continue\n",
    "    return count"
   ]
  },
  {
   "cell_type": "code",
   "execution_count": 6,
   "metadata": {},
   "outputs": [
    {
     "name": "stdout",
     "output_type": "stream",
     "text": [
      "Example:\n",
      "500000000\n"
     ]
    }
   ],
   "source": [
    "print(\"Example:\")\n",
    "print(count_divisible(1000000000, 2))"
   ]
  }
 ],
 "metadata": {
  "kernelspec": {
   "display_name": "Python 3",
   "language": "python",
   "name": "python3"
  },
  "language_info": {
   "codemirror_mode": {
    "name": "ipython",
    "version": 3
   },
   "file_extension": ".py",
   "mimetype": "text/x-python",
   "name": "python",
   "nbconvert_exporter": "python",
   "pygments_lexer": "ipython3",
   "version": "3.10.5"
  }
 },
 "nbformat": 4,
 "nbformat_minor": 2
}
