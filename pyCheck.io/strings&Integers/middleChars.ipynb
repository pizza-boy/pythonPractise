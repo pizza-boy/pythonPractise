{
 "cells": [
  {
   "cell_type": "markdown",
   "metadata": {},
   "source": [
    "# Middle Characters\n",
    "### Difficulty: Elementary+\n",
    "\n",
    "#### You are given some string where you need to find its middle character(s). The string may contain one word, a few symbols or a whole sentence. If the length of the string is even, then you should return two middle characters, but if the length is odd, return just one. For more details look at the Example.\n",
    "\n",
    "##### If you want to practice more with the similar case, try Median mission.\n",
    "\n",
    "Input: A string (str).<br>\n",
    "Output: The middle character(s) as string (str).\n",
    "\n",
    "### Examples:\n",
    "assert middle(\"example\") == \"m\" <br>\n",
    "assert middle(\"test\") == \"es\"\n",
    "\n",
    "#### Precondition: \n",
    "1 <= the length of the text <= 100."
   ]
  },
  {
   "cell_type": "code",
   "execution_count": 7,
   "metadata": {},
   "outputs": [],
   "source": [
    "def middle(text: str) -> str:\n",
    "    if len(text) % 2 == 0:\n",
    "        return text[len(text)//2 - 1] + text[len(text)//2]\n",
    "    else:\n",
    "        return text[len(text)//2]"
   ]
  },
  {
   "cell_type": "code",
   "execution_count": 9,
   "metadata": {},
   "outputs": [
    {
     "name": "stdout",
     "output_type": "stream",
     "text": [
      "Example:\n",
      "py\n"
     ]
    }
   ],
   "source": [
    "print(\"Example:\")\n",
    "print(middle(\"....python\"))"
   ]
  }
 ],
 "metadata": {
  "kernelspec": {
   "display_name": "Python 3",
   "language": "python",
   "name": "python3"
  },
  "language_info": {
   "codemirror_mode": {
    "name": "ipython",
    "version": 3
   },
   "file_extension": ".py",
   "mimetype": "text/x-python",
   "name": "python",
   "nbconvert_exporter": "python",
   "pygments_lexer": "ipython3",
   "version": "3.10.5"
  }
 },
 "nbformat": 4,
 "nbformat_minor": 2
}
