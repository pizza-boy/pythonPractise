{
 "cells": [
  {
   "cell_type": "markdown",
   "metadata": {},
   "source": [
    "# Quadratic Equation Roots\n",
    "### Difference: Simple\n",
    "\n",
    "##### A quadratic equation is represented as ax2 + bx + c = 0. The general formula to find its roots (x-values for which y = 0) is:\n",
    "##### This formula provides two roots: x1, x2. The value inside the square root, b2-4ac is known as the discriminant (D). Based on the value of the discriminant, a quadratic equation can have:\n",
    "\n",
    "two distinct real roots (D > 0);<br>\n",
    "one real root (D = 0);<br>\n",
    "no real roots (D < 0).\n",
    "##### Your code must return Iterable containing two values: the roots x1, x2, sorted descending. If there's only one real root, both values will be the same. If there are no real roots, the Iterable should contain the string \"No real roots\".\n",
    "\n",
    "Input: Three integers (int).<br>\n",
    "Output: Tuple or other Iterable of two numbers (int|float) or string (str).\n",
    "\n",
    "### Examples:\n",
    "assert list(quadratic_roots(1, -3, 2)) == [2, 1]<br>\n",
    "assert list(quadratic_roots(1, 0, -1)) == [1, -1]<br>\n",
    "assert list(quadratic_roots(1, 2, 1)) == [-1, -1]<br>\n",
    "assert list(quadratic_roots(1, 0, 1)) == [\"No real roots\"]\n",
    "\n",
    "#### Preconditions:\n",
    "a != 0;<br>\n",
    "-109 <= a, b, c <= 109."
   ]
  },
  {
   "cell_type": "code",
   "execution_count": 5,
   "metadata": {},
   "outputs": [],
   "source": [
    "from collections.abc import Iterable\n",
    "from typing import Union\n",
    "import math\n",
    "\n",
    "def quadratic_roots(a: int, b: int, c: int) -> Iterable[Union[int | float] | str]:\n",
    "    D = b*b - 4*a*c\n",
    "    \n",
    "    if D == 0: \n",
    "        x = (-b + math.sqrt(D)) / (2*a)\n",
    "        return x, x\n",
    "    elif D > 0: \n",
    "        x1 = (-b + math.sqrt(D)) / (2*a)\n",
    "        x2 = (-b - math.sqrt(D)) / (2*a)\n",
    "        return x1, x2\n",
    "    else: \n",
    "        return [\"No real roots\"]"
   ]
  },
  {
   "cell_type": "code",
   "execution_count": 9,
   "metadata": {},
   "outputs": [
    {
     "name": "stdout",
     "output_type": "stream",
     "text": [
      "Example:\n",
      "['No real roots']\n"
     ]
    }
   ],
   "source": [
    "print(\"Example:\")\n",
    "print(list(quadratic_roots(1, 0, 1)))"
   ]
  }
 ],
 "metadata": {
  "kernelspec": {
   "display_name": "Python 3",
   "language": "python",
   "name": "python3"
  },
  "language_info": {
   "codemirror_mode": {
    "name": "ipython",
    "version": 3
   },
   "file_extension": ".py",
   "mimetype": "text/x-python",
   "name": "python",
   "nbconvert_exporter": "python",
   "pygments_lexer": "ipython3",
   "version": "3.10.5"
  }
 },
 "nbformat": 4,
 "nbformat_minor": 2
}
