{
 "cells": [
  {
   "cell_type": "markdown",
   "metadata": {},
   "source": [
    "# Count Substring Occurrences\n",
    "### Difficulty: Simple\n",
    "\n",
    "#### This function should take a main string and a substring as inputs and return the number of occurrences of the substring within the main string. It should not be case-sensitive and may overlap.\n",
    "\n",
    "Input: Two strings (str).<br>\n",
    "Output: Integer (int).\n",
    "\n",
    "### Examples:\n",
    "assert count_occurrences(\"hello world hello\", \"hello\") == 2<br>\n",
    "assert count_occurrences(\"Hello World hello\", \"hello\") == 2<br>\n",
    "assert count_occurrences(\"hello\", \"world\") == 0<br>\n",
    "assert count_occurrences(\"hello world hello world hello\", \"world\") == 2\n",
    "\n",
    "#### Preconditions:\n",
    "both inputs should be strings: mainStr ∈ string and subStr ∈ string;<br>\n",
    "the main string can have any length, including zero: 0 <= length(mainStr) <= N;<br>\n",
    "the substring should not be an empty string: length(subStr) > 0."
   ]
  },
  {
   "cell_type": "code",
   "execution_count": 1,
   "metadata": {},
   "outputs": [],
   "source": [
    "def count_occurrences(main_str: str, sub_str: str) -> int:\n",
    "    main_str = main_str.lower()\n",
    "    sub_str = sub_str.lower()\n",
    "    index = -1\n",
    "    count = 0\n",
    "    for i in main_str:\n",
    "        index = main_str.find(sub_str, index+1)\n",
    "        if index == -1:\n",
    "            break\n",
    "        else:\n",
    "            count += 1\n",
    "    return count"
   ]
  },
  {
   "cell_type": "code",
   "execution_count": 2,
   "metadata": {},
   "outputs": [
    {
     "name": "stdout",
     "output_type": "stream",
     "text": [
      "Example:\n",
      "2\n"
     ]
    }
   ],
   "source": [
    "print(\"Example:\")\n",
    "print(count_occurrences(\"hello world hello\", \"hello\"))"
   ]
  }
 ],
 "metadata": {
  "kernelspec": {
   "display_name": "Python 3",
   "language": "python",
   "name": "python3"
  },
  "language_info": {
   "codemirror_mode": {
    "name": "ipython",
    "version": 3
   },
   "file_extension": ".py",
   "mimetype": "text/x-python",
   "name": "python",
   "nbconvert_exporter": "python",
   "pygments_lexer": "ipython3",
   "version": "3.10.5"
  }
 },
 "nbformat": 4,
 "nbformat_minor": 2
}
