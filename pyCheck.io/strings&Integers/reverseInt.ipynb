{
 "cells": [
  {
   "cell_type": "markdown",
   "metadata": {},
   "source": [
    "# Reverse Integer\n",
    "### Difficulty: Elementary+\n",
    "\n",
    "#### Reverse the digits of a given integer. For instance, 1234 should become 4321. For negative integers, the sign should remain in the front; e.g., -123 becomes -321.\n",
    "\n",
    "Input: Integer (int). <br>\n",
    "Output: Integer (int).\n",
    "\n",
    "### Examples:\n",
    "assert reverse_digits(1234) == 4321 <br>\n",
    "assert reverse_digits(0) == 0 <br>\n",
    "assert reverse_digits(-123) == -321 <br>\n",
    "assert reverse_digits(5) == 5 <br>\n",
    "\n",
    "#### Precondition:\n",
    "−109 ≤ num ≤ 109."
   ]
  },
  {
   "cell_type": "code",
   "execution_count": 4,
   "metadata": {},
   "outputs": [],
   "source": [
    "def reverse_digits(num: int) -> int:\n",
    "    numStr = str(num)\n",
    "    if num < 0:\n",
    "        rev = '-'\n",
    "    else:\n",
    "        rev = ''\n",
    "    for i in numStr[::-1]:\n",
    "        if i.isdigit():\n",
    "            rev += i\n",
    "        else:\n",
    "            continue\n",
    "    return int(rev)"
   ]
  },
  {
   "cell_type": "code",
   "execution_count": 6,
   "metadata": {},
   "outputs": [
    {
     "name": "stdout",
     "output_type": "stream",
     "text": [
      "Example:\n",
      "-23\n"
     ]
    }
   ],
   "source": [
    "print(\"Example:\")\n",
    "print(reverse_digits(-32))"
   ]
  }
 ],
 "metadata": {
  "kernelspec": {
   "display_name": "Python 3",
   "language": "python",
   "name": "python3"
  },
  "language_info": {
   "codemirror_mode": {
    "name": "ipython",
    "version": 3
   },
   "file_extension": ".py",
   "mimetype": "text/x-python",
   "name": "python",
   "nbconvert_exporter": "python",
   "pygments_lexer": "ipython3",
   "version": "3.10.5"
  }
 },
 "nbformat": 4,
 "nbformat_minor": 2
}
