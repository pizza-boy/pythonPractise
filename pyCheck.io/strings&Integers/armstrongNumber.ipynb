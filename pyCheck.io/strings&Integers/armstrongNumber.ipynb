{
 "cells": [
  {
   "cell_type": "markdown",
   "metadata": {},
   "source": [
    "# Armstrong Number Checking\n",
    "### Difficulty: Elementary+\n",
    "\n",
    "#### In number theory, an Armstrong number (after Michael F. Armstrong) or narcissistic number in a given number base (10 for this mission) is a number that is the sum of its own digits each raised to the power of the number of digits. For example, 153 is an Armstrong number because 1^3 + 5^3 + 3^3 == 153.\n",
    "\n",
    "Input: Integer (int).<br>\n",
    "Output: Logic value (bool).\n",
    "\n",
    "### Examples:\n",
    "assert is_armstrong(153) == True<br>\n",
    "assert is_armstrong(370) == True<br>\n",
    "assert is_armstrong(947) == False<br>\n",
    "assert is_armstrong(371) == True"
   ]
  },
  {
   "cell_type": "code",
   "execution_count": 3,
   "metadata": {},
   "outputs": [],
   "source": [
    "def is_armstrong(num: int) -> bool:\n",
    "    numStr = str(num)\n",
    "    val = 0\n",
    "\n",
    "    for i in numStr:\n",
    "        val += int(i)**len(numStr)\n",
    "\n",
    "    if val == num:\n",
    "        return True    \n",
    "    return False"
   ]
  },
  {
   "cell_type": "code",
   "execution_count": 6,
   "metadata": {},
   "outputs": [
    {
     "name": "stdout",
     "output_type": "stream",
     "text": [
      "Example:\n",
      "False\n"
     ]
    }
   ],
   "source": [
    "print(\"Example:\")\n",
    "print(is_armstrong(11))"
   ]
  }
 ],
 "metadata": {
  "kernelspec": {
   "display_name": "Python 3",
   "language": "python",
   "name": "python3"
  },
  "language_info": {
   "codemirror_mode": {
    "name": "ipython",
    "version": 3
   },
   "file_extension": ".py",
   "mimetype": "text/x-python",
   "name": "python",
   "nbconvert_exporter": "python",
   "pygments_lexer": "ipython3",
   "version": "3.10.5"
  }
 },
 "nbformat": 4,
 "nbformat_minor": 2
}
