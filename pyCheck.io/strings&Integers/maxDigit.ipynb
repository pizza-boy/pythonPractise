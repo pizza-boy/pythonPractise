{
 "cells": [
  {
   "cell_type": "markdown",
   "metadata": {},
   "source": [
    "# Max Digit\n",
    "### Difficulty: Elementary\n",
    "\n",
    "#### You have a number and you need to determine which digit in this number is the biggest.\n",
    "\n",
    "Input: A positive integer (int). <br>\n",
    "Output: An integer 0-9 (int).\n",
    "\n",
    "### Examples:\n",
    "assert max_digit(0) == 0 <br>\n",
    "assert max_digit(52) == 5 <br>\n",
    "assert max_digit(634) == 6 <br>\n",
    "assert max_digit(1) == 1"
   ]
  },
  {
   "cell_type": "code",
   "execution_count": 1,
   "metadata": {},
   "outputs": [],
   "source": [
    "def max_digit(value: int) -> int:\n",
    "    largest = 0\n",
    "    digits = str(value)\n",
    "    for digit in digits:\n",
    "        if largest < int(digit):\n",
    "            largest = int(digit)\n",
    "    return int(largest)"
   ]
  },
  {
   "cell_type": "code",
   "execution_count": 2,
   "metadata": {},
   "outputs": [
    {
     "name": "stdout",
     "output_type": "stream",
     "text": [
      "Example:\n",
      "1\n"
     ]
    }
   ],
   "source": [
    "print(\"Example:\")\n",
    "print(max_digit(10))"
   ]
  }
 ],
 "metadata": {
  "kernelspec": {
   "display_name": "Python 3",
   "language": "python",
   "name": "python3"
  },
  "language_info": {
   "codemirror_mode": {
    "name": "ipython",
    "version": 3
   },
   "file_extension": ".py",
   "mimetype": "text/x-python",
   "name": "python",
   "nbconvert_exporter": "python",
   "pygments_lexer": "ipython3",
   "version": "3.10.5"
  }
 },
 "nbformat": 4,
 "nbformat_minor": 2
}
