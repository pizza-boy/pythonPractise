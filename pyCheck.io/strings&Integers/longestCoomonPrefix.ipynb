{
 "cells": [
  {
   "cell_type": "markdown",
   "metadata": {},
   "source": [
    "# Longest Common Prefix\n",
    "# Difficulty: Simple\n",
    "\n",
    "#### This function should take a list of strings and determine the longest common prefix among all the strings. If there is no common prefix, it should return an empty string.\n",
    "\n",
    "Input: List of strings (str).<br>\n",
    "Output: String (str).\n",
    "\n",
    "### Examples:\n",
    "assert longest_prefix([\"flower\", \"flow\", \"flight\"]) == \"fl\" <br>\n",
    "assert longest_prefix([\"dog\", \"racecar\", \"car\"]) == \"\" <br>\n",
    "assert longest_prefix([\"apple\", \"application\", \"appetizer\"]) == \"app\" <br>\n",
    "assert longest_prefix([\"a\"]) == \"a\" <br>"
   ]
  },
  {
   "cell_type": "code",
   "execution_count": 8,
   "metadata": {},
   "outputs": [],
   "source": [
    "def longest_prefix(arr: list[str]) -> str:\n",
    "    if not arr:\n",
    "        return \"\"\n",
    "    \n",
    "    # Sort the list of strings\n",
    "    arr.sort()\n",
    "\n",
    "    # We can compare only the first and the last strings in the sorted list, since the longest common prefix has to be among the two, the strings in between already have the same characters\n",
    "    first = arr[0]\n",
    "    last = arr[-1]\n",
    "    common_prefix_length = 0\n",
    "    \n",
    "    for i in range(min(len(first), len(last))):\n",
    "        if first[i] == last[i]:\n",
    "            common_prefix_length += 1\n",
    "        else:\n",
    "            break\n",
    "    \n",
    "    return first[:common_prefix_length]"
   ]
  },
  {
   "cell_type": "code",
   "execution_count": 9,
   "metadata": {},
   "outputs": [
    {
     "name": "stdout",
     "output_type": "stream",
     "text": [
      "Example:\n",
      "'fl'\n"
     ]
    }
   ],
   "source": [
    "print(\"Example:\")\n",
    "print(repr(longest_prefix([\"flower\", \"flow\", \"flint\"])))"
   ]
  }
 ],
 "metadata": {
  "kernelspec": {
   "display_name": "Python 3",
   "language": "python",
   "name": "python3"
  },
  "language_info": {
   "codemirror_mode": {
    "name": "ipython",
    "version": 3
   },
   "file_extension": ".py",
   "mimetype": "text/x-python",
   "name": "python",
   "nbconvert_exporter": "python",
   "pygments_lexer": "ipython3",
   "version": "3.10.5"
  }
 },
 "nbformat": 4,
 "nbformat_minor": 2
}
