{
 "cells": [
  {
   "cell_type": "markdown",
   "metadata": {},
   "source": [
    "# Correct Sentence\n",
    "### Difficulty: Elementary\n",
    "\n",
    "#### For the input of your function, you will be given one sentence. You have to return a corrected version, that starts with a capital letter and ends with a period (dot).\n",
    "#### Pay attention to the fact that not all of the fixes are necessary. If a sentence already ends with a period (dot), then adding another one will be a mistake.\n",
    "\n",
    "Input: A string (str). <br>\n",
    "Output: A string (str).\n",
    "\n",
    "### Examples:\n",
    "assert correct_sentence(\"greetings, friends\") == \"Greetings, friends.\" <br>\n",
    "assert correct_sentence(\"Greetings, friends\") == \"Greetings, friends.\" <br>\n",
    "assert correct_sentence(\"Greetings, friends.\") == \"Greetings, friends.\" <br>\n",
    "assert correct_sentence(\"greetings, friends.\") == \"Greetings, friends.\" <br>\n",
    "\n",
    "#### Precondition: \n",
    "No leading and trailing spaces, text contains only spaces, a-z, A-Z, \",\" and \".\"."
   ]
  },
  {
   "cell_type": "code",
   "execution_count": 1,
   "metadata": {},
   "outputs": [],
   "source": [
    "def correct_sentence(text: str) -> str:\n",
    "    text = text.strip()\n",
    "    if text[-1] != \".\":\n",
    "        text = text[0:1].upper() + text[1:] + \".\"\n",
    "    else:\n",
    "        text = text[0].upper() + text[1:]\n",
    "    return text"
   ]
  },
  {
   "cell_type": "code",
   "execution_count": 2,
   "metadata": {},
   "outputs": [
    {
     "name": "stdout",
     "output_type": "stream",
     "text": [
      "Example:\n",
      "Greetings, friends.\n"
     ]
    }
   ],
   "source": [
    "print(\"Example:\")\n",
    "print(correct_sentence(\"greetings, friends\"))"
   ]
  }
 ],
 "metadata": {
  "kernelspec": {
   "display_name": "Python 3",
   "language": "python",
   "name": "python3"
  },
  "language_info": {
   "codemirror_mode": {
    "name": "ipython",
    "version": 3
   },
   "file_extension": ".py",
   "mimetype": "text/x-python",
   "name": "python",
   "nbconvert_exporter": "python",
   "pygments_lexer": "ipython3",
   "version": "3.10.5"
  }
 },
 "nbformat": 4,
 "nbformat_minor": 2
}
