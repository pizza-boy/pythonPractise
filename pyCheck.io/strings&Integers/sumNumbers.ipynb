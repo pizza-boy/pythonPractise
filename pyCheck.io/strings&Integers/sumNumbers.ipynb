{
 "cells": [
  {
   "cell_type": "markdown",
   "metadata": {},
   "source": [
    "# Sum Numbers\n",
    "### Difficulty: Elementary\n",
    "\n",
    "#### In a given text you need to sum the numbers while excluding any digits that form part of a word.\n",
    "#### The text consists of numbers, spaces and letters from the English alphabet.\n",
    "\n",
    "Input: A string (str).<br>\n",
    "Output: An integer (int).\n",
    "\n",
    "### Examples:\n",
    "assert sum_numbers(\"hi\") == 0 <br>\n",
    "assert sum_numbers(\"who is 1st here\") == 0 <br>\n",
    "assert sum_numbers(\"my numbers is 2\") == 2\n",
    "assert (\n",
    "    sum_numbers(\n",
    "        \"This picture is an oil on canvas painting by Danish artist Anna Petersen between 1845 and 1910 year\"\n",
    "    )\n",
    "    == 3755\n",
    ")"
   ]
  },
  {
   "cell_type": "code",
   "execution_count": 1,
   "metadata": {},
   "outputs": [],
   "source": [
    "def sum_numbers(text: str) -> int:\n",
    "    words = text.split()\n",
    "    sum = 0\n",
    "    for word in words:\n",
    "        if word.isdigit():\n",
    "            sum += int(word)\n",
    "    return sum"
   ]
  },
  {
   "cell_type": "code",
   "execution_count": 2,
   "metadata": {},
   "outputs": [
    {
     "name": "stdout",
     "output_type": "stream",
     "text": [
      "Example:\n",
      "0\n"
     ]
    }
   ],
   "source": [
    "print(\"Example:\")\n",
    "print(sum_numbers(\"hi\"))"
   ]
  }
 ],
 "metadata": {
  "kernelspec": {
   "display_name": "Python 3",
   "language": "python",
   "name": "python3"
  },
  "language_info": {
   "codemirror_mode": {
    "name": "ipython",
    "version": 3
   },
   "file_extension": ".py",
   "mimetype": "text/x-python",
   "name": "python",
   "nbconvert_exporter": "python",
   "pygments_lexer": "ipython3",
   "version": "3.10.5"
  }
 },
 "nbformat": 4,
 "nbformat_minor": 2
}
