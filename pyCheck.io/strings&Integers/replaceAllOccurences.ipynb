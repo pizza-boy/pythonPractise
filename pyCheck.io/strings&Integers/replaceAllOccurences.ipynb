{
 "cells": [
  {
   "cell_type": "markdown",
   "metadata": {},
   "source": [
    "# Replace All Occurrences\n",
    "### Diffivulty: Elementary\n",
    "\n",
    "\n",
    "#### This function should take three strings as input: the main text, the target substring, and the replacement substring. It should return a new string where all occurrences of the target substring within the main text are replaced with the replacement substring.\n",
    "\n",
    "Input: Three strings (str). <br>\n",
    "Output: String (str).\n",
    "\n",
    "### Examples:\n",
    "assert replace_all(\"hello world\", \"world\", \"TypeScript\") == \"hello TypeScript\" <br>\n",
    "assert (\n",
    "    replace_all(\"hello world world\", \"world\", \"TypeScript\")\n",
    "    == \"hello TypeScript TypeScript\"\n",
    ") <br>\n",
    "assert replace_all(\"TypeScript is fun\", \"fun\", \"awesome\") == \"TypeScript is awesome\" <br>\n",
    "assert replace_all(\"aaa\", \"a\", \"b\") == \"bbb\" <br>\n",
    "\n",
    "#### Preconditions:\n",
    "all inputs should be strings: mainText, target, replacement ∈ string;\n",
    "the target should not be an empty string: length(target) > 0."
   ]
  },
  {
   "cell_type": "code",
   "execution_count": 1,
   "metadata": {},
   "outputs": [],
   "source": [
    "def replace_all(mainText: str, target: str, repl: str) -> str:\n",
    "    mainText = mainText.replace(target, repl)\n",
    "    return mainText"
   ]
  },
  {
   "cell_type": "code",
   "execution_count": 2,
   "metadata": {},
   "outputs": [
    {
     "name": "stdout",
     "output_type": "stream",
     "text": [
      "Example:\n",
      "hello TypeScript\n"
     ]
    }
   ],
   "source": [
    "print(\"Example:\")\n",
    "print(replace_all(\"hello world\", \"world\", \"TypeScript\"))"
   ]
  }
 ],
 "metadata": {
  "kernelspec": {
   "display_name": "Python 3",
   "language": "python",
   "name": "python3"
  },
  "language_info": {
   "codemirror_mode": {
    "name": "ipython",
    "version": 3
   },
   "file_extension": ".py",
   "mimetype": "text/x-python",
   "name": "python",
   "nbconvert_exporter": "python",
   "pygments_lexer": "ipython3",
   "version": "3.10.5"
  }
 },
 "nbformat": 4,
 "nbformat_minor": 2
}
