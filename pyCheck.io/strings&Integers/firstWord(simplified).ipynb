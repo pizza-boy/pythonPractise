{
 "cells": [
  {
   "cell_type": "markdown",
   "metadata": {},
   "source": [
    "# First Word (simplified)\n",
    "### Difficulty: Elementary\n",
    "\n",
    "#### You are given a string and you have to find its first word.\n",
    "\n",
    "#### The input string consists of only English letters and spaces. There aren’t any spaces at the beginning and the end of the string.\n",
    "\n",
    "Input: A string (str). <br>\n",
    "Output: A string (str).\n",
    "\n",
    "### Examples:\n",
    "assert first_word(\"Hello world\") == \"Hello\" <br>\n",
    "assert first_word(\"a word\") == \"a\" <br>\n",
    "assert first_word(\"greeting from CheckiO Planet\") == \"greeting\" <br>\n",
    "assert first_word(\"hi\") == \"hi\" <br>\n",
    "\n",
    "### Precondition: \n",
    "The text can contain a-z, A-Z and spaces."
   ]
  },
  {
   "cell_type": "code",
   "execution_count": 1,
   "metadata": {},
   "outputs": [],
   "source": [
    "def first_word(text: str) -> str:\n",
    "    words = text.split()\n",
    "    return words[0]"
   ]
  },
  {
   "cell_type": "code",
   "execution_count": 2,
   "metadata": {},
   "outputs": [
    {
     "name": "stdout",
     "output_type": "stream",
     "text": [
      "Example:\n",
      "Hello\n"
     ]
    }
   ],
   "source": [
    "print(\"Example:\")\n",
    "print(first_word(\"Hello world\"))"
   ]
  }
 ],
 "metadata": {
  "kernelspec": {
   "display_name": "Python 3",
   "language": "python",
   "name": "python3"
  },
  "language_info": {
   "codemirror_mode": {
    "name": "ipython",
    "version": 3
   },
   "file_extension": ".py",
   "mimetype": "text/x-python",
   "name": "python",
   "nbconvert_exporter": "python",
   "pygments_lexer": "ipython3",
   "version": "3.10.5"
  }
 },
 "nbformat": 4,
 "nbformat_minor": 2
}
