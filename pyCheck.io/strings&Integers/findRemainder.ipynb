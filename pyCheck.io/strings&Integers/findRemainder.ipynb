{
 "cells": [
  {
   "cell_type": "markdown",
   "metadata": {},
   "source": [
    "# Find Remainder\n",
    "### Difficulty: Elementary+\n",
    "\n",
    "#### Determine the remainder from division of two positive integers.\n",
    "\n",
    "Input: Two integers (int): dividend (the number to be divided) and divisor (the number by which division is to be performed).<br>\n",
    "Output: Integer (int).\n",
    "\n",
    "### Examples:\n",
    "assert find_remainder(10, 3) == 1 <br>\n",
    "assert find_remainder(14, 4) == 2<br>\n",
    "assert find_remainder(27, 4) == 3<br>\n",
    "assert find_remainder(10, 5) == 0\n",
    "\n",
    "### Precondition:\n",
    "dividend, divisor > 0."
   ]
  },
  {
   "cell_type": "code",
   "execution_count": 1,
   "metadata": {},
   "outputs": [],
   "source": [
    "def find_remainder(dividend: int, divisor: int) -> int:\n",
    "        return dividend % divisor"
   ]
  },
  {
   "cell_type": "code",
   "execution_count": 2,
   "metadata": {},
   "outputs": [
    {
     "name": "stdout",
     "output_type": "stream",
     "text": [
      "Example:\n",
      "1\n"
     ]
    }
   ],
   "source": [
    "print(\"Example:\")\n",
    "print(find_remainder(3, 2))"
   ]
  }
 ],
 "metadata": {
  "kernelspec": {
   "display_name": "Python 3",
   "language": "python",
   "name": "python3"
  },
  "language_info": {
   "codemirror_mode": {
    "name": "ipython",
    "version": 3
   },
   "file_extension": ".py",
   "mimetype": "text/x-python",
   "name": "python",
   "nbconvert_exporter": "python",
   "pygments_lexer": "ipython3",
   "version": "3.10.5"
  }
 },
 "nbformat": 4,
 "nbformat_minor": 2
}
