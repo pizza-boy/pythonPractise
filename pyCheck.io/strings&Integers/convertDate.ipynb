{
 "cells": [
  {
   "cell_type": "markdown",
   "metadata": {},
   "source": [
    "# Convert Date\n",
    "### Difficulty: Simple\n",
    "\n",
    "#### This function should take a date string in the format dd/mm/yyyy and convert it to the format yyyy-mm-dd. If the input is not in the correct format, the function should return an error message \"Error: Invalid date.\".\n",
    "\n",
    "Input: String (str).<br>\n",
    "Output: String (str).\n",
    "\n",
    "### Examples:\n",
    "assert convert_date(\"25/12/2021\") == \"2021-12-25\"<br>\n",
    "assert convert_date(\"01/01/2000\") == \"2000-01-01\"<br>\n",
    "assert convert_date(\"15/06/1995\") == \"1995-06-15\"<br>\n",
    "assert convert_date(\"29/02/2020\") == \"2020-02-29\"\n",
    "\n",
    "#### Preconditions:\n",
    "the input should be a string: date ∈ string."
   ]
  },
  {
   "cell_type": "code",
   "execution_count": 1,
   "metadata": {},
   "outputs": [],
   "source": [
    "def is_leap_year(year: int) -> bool:\n",
    "    # A year is a leap year if it is divisible by 4, except for end-of-century years, which must be divisible by 400\n",
    "    return (year % 4 == 0 and year % 100 != 0) or (year % 400 == 0)\n",
    "\n",
    "def convert_date(date: str) -> str:\n",
    "    try:\n",
    "        # Split the input string by \"/\"\n",
    "        day, month, year = date.split(\"/\")\n",
    "        \n",
    "        # Check if all parts are of correct length\n",
    "        if len(day) != 2 or len(month) != 2 or len(year) != 4:\n",
    "            return \"Error: Invalid date.\"\n",
    "        \n",
    "        # Convert day, month, year to integers\n",
    "        day = int(day)\n",
    "        month = int(month)\n",
    "        year = int(year)\n",
    "\n",
    "        # Check if month is valid\n",
    "        if month < 1 or month > 12:\n",
    "            return \"Error: Invalid date.\"\n",
    "\n",
    "        # Define the number of days in each month\n",
    "        days_in_month = [31, 29 if is_leap_year(year) else 28, 31, 30, 31, 30, 31, 31, 30, 31, 30, 31]\n",
    "\n",
    "        # Check if day is valid for the given month\n",
    "        if day < 1 or day > days_in_month[month - 1]:\n",
    "            return \"Error: Invalid date.\"\n",
    "        \n",
    "        # Return the date in the new format\n",
    "        return f\"{year:04d}-{month:02d}-{day:02d}\"\n",
    "    except ValueError:\n",
    "        # If there's an error in conversion, it means the date is invalid\n",
    "        return \"Error: Invalid date.\""
   ]
  },
  {
   "cell_type": "code",
   "execution_count": 2,
   "metadata": {},
   "outputs": [
    {
     "name": "stdout",
     "output_type": "stream",
     "text": [
      "Example:\n",
      "2023-01-01\n"
     ]
    }
   ],
   "source": [
    "print(\"Example:\")\n",
    "print(convert_date(\"01/01/2023\"))"
   ]
  }
 ],
 "metadata": {
  "kernelspec": {
   "display_name": "Python 3",
   "language": "python",
   "name": "python3"
  },
  "language_info": {
   "codemirror_mode": {
    "name": "ipython",
    "version": 3
   },
   "file_extension": ".py",
   "mimetype": "text/x-python",
   "name": "python",
   "nbconvert_exporter": "python",
   "pygments_lexer": "ipython3",
   "version": "3.10.5"
  }
 },
 "nbformat": 4,
 "nbformat_minor": 2
}
