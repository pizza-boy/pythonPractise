{
 "cells": [
  {
   "cell_type": "markdown",
   "metadata": {},
   "source": [
    "# Fuzzy String Matching\n",
    "### Difficulty: Elementary+\n",
    "\n",
    "#### Given two strings and a permissible number of character differences, determine if the strings can be considered approximately equal.\n",
    "\n",
    "Input: Three arguments: two strings (str) and one integer (int).<br>\n",
    "Output: Logic value (bool).\n",
    "\n",
    "### Examples:\n",
    "assert fuzzy_string_match(\"apple\", \"appel\", 2) == True<br>\n",
    "assert fuzzy_string_match(\"apple\", \"bpple\", 1) == True<br>\n",
    "assert fuzzy_string_match(\"apple\", \"bpple\", 0) == False <br>\n",
    "assert fuzzy_string_match(\"apple\", \"apples\", 1) == True\n",
    "\n",
    "#### Precondition:\n",
    "0 <= threshold <= max(len(str1), len(str2))."
   ]
  },
  {
   "cell_type": "code",
   "execution_count": 1,
   "metadata": {},
   "outputs": [],
   "source": [
    "def fuzzy_string_match(str1: str, str2: str, threshold: int) -> bool:\n",
    "    count = abs(len(str1) - len(str2))\n",
    "    for i,j in zip(str1,str2):\n",
    "        if i != j:\n",
    "            count += 1\n",
    "    return count <= threshold"
   ]
  },
  {
   "cell_type": "code",
   "execution_count": 2,
   "metadata": {},
   "outputs": [
    {
     "name": "stdout",
     "output_type": "stream",
     "text": [
      "Example:\n",
      "True\n"
     ]
    }
   ],
   "source": [
    "print(\"Example:\")\n",
    "print(fuzzy_string_match(\"apple\", \"appel\", 2))"
   ]
  }
 ],
 "metadata": {
  "kernelspec": {
   "display_name": "Python 3",
   "language": "python",
   "name": "python3"
  },
  "language_info": {
   "codemirror_mode": {
    "name": "ipython",
    "version": 3
   },
   "file_extension": ".py",
   "mimetype": "text/x-python",
   "name": "python",
   "nbconvert_exporter": "python",
   "pygments_lexer": "ipython3",
   "version": "3.10.5"
  }
 },
 "nbformat": 4,
 "nbformat_minor": 2
}
