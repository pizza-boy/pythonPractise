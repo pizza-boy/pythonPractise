{
 "cells": [
  {
   "cell_type": "markdown",
   "metadata": {},
   "source": [
    "# Beginning Zeros\n",
    "### Difficulty: Elementary+\n",
    "\n",
    "#### You have a string that consist only of digits. You need to find how many zero digits (\"0\") are at the beginning of the given string.\n",
    "\n",
    "Input: A string (str), that consists of digits.<br>\n",
    "Output: An integer (int).\n",
    "\n",
    "### Examples:\n",
    "assert beginning_zeros(\"100\") == 0 <br>\n",
    "assert beginning_zeros(\"001\") == 2 <br>\n",
    "assert beginning_zeros(\"100100\") == 0 <br>\n",
    "assert beginning_zeros(\"001001\") == 2\n",
    "\n",
    "#### Precondition: \n",
    "0-9"
   ]
  },
  {
   "cell_type": "code",
   "execution_count": 1,
   "metadata": {},
   "outputs": [],
   "source": [
    "def beginning_zeros(a: str) -> int:\n",
    "    count = 0\n",
    "    for i in a:\n",
    "        if i == '0':\n",
    "            count += 1\n",
    "        else:\n",
    "            break\n",
    "    return count"
   ]
  },
  {
   "cell_type": "code",
   "execution_count": 2,
   "metadata": {},
   "outputs": [
    {
     "name": "stdout",
     "output_type": "stream",
     "text": [
      "Example:\n",
      "0\n"
     ]
    }
   ],
   "source": [
    "print(\"Example:\")\n",
    "print(beginning_zeros(\"10\"))"
   ]
  }
 ],
 "metadata": {
  "kernelspec": {
   "display_name": "Python 3",
   "language": "python",
   "name": "python3"
  },
  "language_info": {
   "codemirror_mode": {
    "name": "ipython",
    "version": 3
   },
   "file_extension": ".py",
   "mimetype": "text/x-python",
   "name": "python",
   "nbconvert_exporter": "python",
   "pygments_lexer": "ipython3",
   "version": "3.10.5"
  }
 },
 "nbformat": 4,
 "nbformat_minor": 2
}
