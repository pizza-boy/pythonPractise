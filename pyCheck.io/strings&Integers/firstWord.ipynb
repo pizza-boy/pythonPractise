{
 "cells": [
  {
   "cell_type": "markdown",
   "metadata": {},
   "source": [
    "# First Word\n",
    "### Difficulty: Elementary+\n",
    "\n",
    "#### You might see a simplified version of this mission already First Word (simplified). This mission is a little bit more complex as not only English letters can be in the given string.\n",
    "\n",
    "#### You are given a string where you have to find its first word.\n",
    "\n",
    "##### When solving a task pay attention to the following points:\n",
    "There can be dots and commas in a string. <br>\n",
    "A string can start with a letter or, for example, one/multiple dot(s) or space(s).<br>\n",
    "A word can contain an apostrophe and it's a part of a word. <br>\n",
    "The whole text can be represented with one word and that's it.<br>\n",
    "\n",
    "Input: A string (str). <br>\n",
    "Output: A string (str).\n",
    "\n",
    "### Examples:\n",
    "assert first_word(\"Hello world\") == \"Hello\" <br>\n",
    "assert first_word(\" a word \") == \"a\" <br>\n",
    "assert first_word(\"don't touch it\") == \"don't\"<br>\n",
    "assert first_word(\"greetings, friends\") == \"greetings\"\n",
    "\n",
    "#### Precondition: \n",
    "the text can contain a-z A-Z , . '"
   ]
  },
  {
   "cell_type": "code",
   "execution_count": 1,
   "metadata": {},
   "outputs": [],
   "source": [
    "def first_word(text: str) -> str:\n",
    "    # Split the text into words based on spaces\n",
    "    words = text.split()\n",
    "    real_words = []\n",
    "\n",
    "    for word in words:\n",
    "        # Initialize a clean word container\n",
    "        clean_word = \"\"\n",
    "        # Iterate through each character in the word\n",
    "        for char in word:\n",
    "            # Add alphanumeric characters and apostrophes to the clean word\n",
    "            if char.isalnum() or char == \"'\":\n",
    "                clean_word += char\n",
    "            # Stop at the first non-alphanumeric, non-apostrophe character after a word has started\n",
    "            elif clean_word:\n",
    "                break\n",
    "        # If a clean word is formed, add it to the real words list\n",
    "        if clean_word:\n",
    "            real_words.append(clean_word)\n",
    "    \n",
    "    # Return the first word from the list of real words, if any\n",
    "    return real_words[0] if real_words else \"\""
   ]
  },
  {
   "cell_type": "code",
   "execution_count": 2,
   "metadata": {},
   "outputs": [
    {
     "name": "stdout",
     "output_type": "stream",
     "text": [
      "Example:\n",
      "Hello\n"
     ]
    }
   ],
   "source": [
    "print(\"Example:\")\n",
    "print(first_word(\"Hello world\"))"
   ]
  }
 ],
 "metadata": {
  "kernelspec": {
   "display_name": "Python 3",
   "language": "python",
   "name": "python3"
  },
  "language_info": {
   "codemirror_mode": {
    "name": "ipython",
    "version": 3
   },
   "file_extension": ".py",
   "mimetype": "text/x-python",
   "name": "python",
   "nbconvert_exporter": "python",
   "pygments_lexer": "ipython3",
   "version": "3.10.5"
  }
 },
 "nbformat": 4,
 "nbformat_minor": 2
}
