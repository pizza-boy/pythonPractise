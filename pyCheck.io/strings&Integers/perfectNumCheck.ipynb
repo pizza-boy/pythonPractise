{
 "cells": [
  {
   "cell_type": "markdown",
   "metadata": {},
   "source": [
    "# Perfect Number Checking\n",
    "### Difficulty: Simple\n",
    "\n",
    "#### A perfect number is a positive integer that is equal to the sum of its proper divisors, excluding itself. For example, 28 is a perfect number because its divisors are 1, 2, 4, 7, and 14, and their sum is 28.\n",
    "\n",
    "Input: Integer (int).<br>\n",
    "Output: Logic value (bool).\n",
    "\n",
    "### Examples:\n",
    "assert is_perfect(6) == True <br>\n",
    "assert is_perfect(2) == False <br>\n",
    "assert is_perfect(28) == True<br>\n",
    "assert is_perfect(20) == False\n",
    "\n",
    "#### Precondition:\n",
    "1 <= n <= 108"
   ]
  },
  {
   "cell_type": "code",
   "execution_count": 1,
   "metadata": {},
   "outputs": [],
   "source": [
    "def is_perfect(n: int) -> bool:\n",
    "    sum = 0\n",
    "    for i in range(1,n):\n",
    "        if n % i == 0:\n",
    "            sum += i\n",
    "    if sum == n:\n",
    "        return True\n",
    "    return False"
   ]
  },
  {
   "cell_type": "code",
   "execution_count": 2,
   "metadata": {},
   "outputs": [
    {
     "name": "stdout",
     "output_type": "stream",
     "text": [
      "Example:\n",
      "False\n"
     ]
    }
   ],
   "source": [
    "print(\"Example:\")\n",
    "print(is_perfect(3))"
   ]
  }
 ],
 "metadata": {
  "kernelspec": {
   "display_name": "Python 3",
   "language": "python",
   "name": "python3"
  },
  "language_info": {
   "codemirror_mode": {
    "name": "ipython",
    "version": 3
   },
   "file_extension": ".py",
   "mimetype": "text/x-python",
   "name": "python",
   "nbconvert_exporter": "python",
   "pygments_lexer": "ipython3",
   "version": "3.10.5"
  }
 },
 "nbformat": 4,
 "nbformat_minor": 2
}
