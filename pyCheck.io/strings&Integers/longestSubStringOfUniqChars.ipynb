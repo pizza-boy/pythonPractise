{
 "cells": [
  {
   "cell_type": "markdown",
   "metadata": {},
   "source": [
    "# Longest Substring of Unique Characters\n",
    "### Difficulty: Simple\n",
    "\n",
    "Given a string, find the length of the longest substring without repeating characters.\n",
    "\n",
    "Input: String (str).<br>\n",
    "Output: Integer (int).\n",
    "\n",
    "### Examples:\n",
    "assert longest_substr(\"abcabcbb\") == 3 <br>\n",
    "assert longest_substr(\"bbbbb\") == 1 <br>\n",
    "assert longest_substr(\"pwwkew\") == 3 <br>\n",
    "assert longest_substr(\"abcdef\") == 6 <br>"
   ]
  },
  {
   "cell_type": "code",
   "execution_count": 9,
   "metadata": {},
   "outputs": [],
   "source": [
    "def longest_substr(s: str) -> int:\n",
    "    char_index = {}\n",
    "    longest = 0  \n",
    "    start = 0  \n",
    "    \n",
    "    for i, char in enumerate(s):\n",
    "        if char in char_index and char_index[char] >= start:\n",
    "            start = char_index[char] + 1\n",
    "        \n",
    "        char_index[char] = i\n",
    "        longest = max(longest, i - start + 1)\n",
    "    \n",
    "    return longest"
   ]
  },
  {
   "cell_type": "code",
   "execution_count": 12,
   "metadata": {},
   "outputs": [
    {
     "name": "stdout",
     "output_type": "stream",
     "text": [
      "Example:\n",
      "3\n"
     ]
    }
   ],
   "source": [
    "print(\"Example:\")\n",
    "print(longest_substr(\"abcabcbb\"))"
   ]
  }
 ],
 "metadata": {
  "kernelspec": {
   "display_name": "Python 3",
   "language": "python",
   "name": "python3"
  },
  "language_info": {
   "codemirror_mode": {
    "name": "ipython",
    "version": 3
   },
   "file_extension": ".py",
   "mimetype": "text/x-python",
   "name": "python",
   "nbconvert_exporter": "python",
   "pygments_lexer": "ipython3",
   "version": "3.10.5"
  }
 },
 "nbformat": 4,
 "nbformat_minor": 2
}
