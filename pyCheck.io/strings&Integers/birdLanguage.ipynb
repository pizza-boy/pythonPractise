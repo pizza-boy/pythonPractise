{
 "cells": [
  {
   "cell_type": "markdown",
   "metadata": {},
   "source": [
    "# Bird Language\n",
    "### Difficulty: Elementary+\n",
    "\n",
    "#### Stephan has a friend who happens to be a little mechbird. Recently, he was trying to teach it how to speak basic language. Today the bird spoke its first word: \"hieeelalaooo\". This sounds a lot like \"hello\", but with too many vowels. Stephan asked Nikola for help and he helped to examine how the bird changes words. With the information they discovered, we should help them to make a translation module.\n",
    "\n",
    "#### The bird converts words by two rules:\n",
    "- after each consonant letter the bird appends a random vowel letter (l ⇒ la or le);<br>\n",
    "- after each vowel letter the bird appends two of the same letter (a ⇒ aaa);<br>\n",
    "Vowels letters == \"aeiouy\".<br>\n",
    "\n",
    "#### You are given an ornithological phrase as several words which are separated by white-spaces (each pair of words by one whitespace). The bird does not know how to punctuate its phrases and only speaks words as letters. All words are given in lowercase. You should translate this phrase from the bird language to something more understandable.\n",
    "\n",
    "Input: A bird phrase as a string (str).<br>\n",
    "Output: The translation as a string (str).\n",
    "\n",
    "### Examples:\n",
    "assert translation(\"hieeelalaooo\") == \"hello\"<br>\n",
    "assert translation(\"hoooowe yyyooouuu duoooiiine\") == \"how you doin\"<br>\n",
    "assert translation(\"aaa bo cy da eee fe\") == \"a b c d e f\"<br>\n",
    "assert translation(\"sooooso aaaaaaaaa\") == \"sos aaa\"<br>\n",
    "\n",
    "#### Precondition: \n",
    "re.match(\"\\A([a-z]+\\ ?)+(?<!\\ )\\Z\", phrase)<br>\n",
    "A phrase always has the translation."
   ]
  },
  {
   "cell_type": "code",
   "execution_count": 1,
   "metadata": {},
   "outputs": [],
   "source": [
    "def translation(text: str) -> str:\n",
    "    res = \"\"\n",
    "    vowels = \"aeiouy\"\n",
    "    i = 0\n",
    "    \n",
    "    while i < len(text):\n",
    "        letter = text[i]\n",
    "        res += letter\n",
    "        if letter in vowels:\n",
    "            i += 3  # Skip the next two identical vowels\n",
    "        elif letter.isalpha():\n",
    "            i += 2  # Skip the next added vowel\n",
    "        else:\n",
    "            i += 1  # Move to the next character (for spaces or non-alphabetical characters)\n",
    "    return res"
   ]
  },
  {
   "cell_type": "code",
   "execution_count": 2,
   "metadata": {},
   "outputs": [
    {
     "name": "stdout",
     "output_type": "stream",
     "text": [
      "Example:\n",
      "hello\n"
     ]
    }
   ],
   "source": [
    "print(\"Example:\")\n",
    "print(translation(\"hieeelalaooo\"))"
   ]
  }
 ],
 "metadata": {
  "kernelspec": {
   "display_name": "Python 3",
   "language": "python",
   "name": "python3"
  },
  "language_info": {
   "codemirror_mode": {
    "name": "ipython",
    "version": 3
   },
   "file_extension": ".py",
   "mimetype": "text/x-python",
   "name": "python",
   "nbconvert_exporter": "python",
   "pygments_lexer": "ipython3",
   "version": "3.10.5"
  }
 },
 "nbformat": 4,
 "nbformat_minor": 2
}
