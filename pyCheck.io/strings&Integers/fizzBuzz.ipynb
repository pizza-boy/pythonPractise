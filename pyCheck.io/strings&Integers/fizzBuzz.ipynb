{
 "cells": [
  {
   "cell_type": "markdown",
   "metadata": {},
   "source": [
    "# Fizz Buzz\n",
    "### Difficulty: Elementary\n",
    "\n",
    "\"Fizz buzz\" is a word game we will use to teach the robots about division. Let's learn computers. <br>\n",
    "You should write a function that will receive a positive integer and return: <br>\n",
    "\"Fizz Buzz\" if the number is divisible by 3 and by 5; <br>\n",
    "\"Fizz\" if the number is divisible by 3; <br>\n",
    "\"Buzz\" if the number is divisible by 5; <br>\n",
    "The number as a string for other cases. <br>\n",
    "\n",
    "Input: An integer (int). <br>\n",
    "Output: A string (str).\n",
    "\n",
    "### Examples:\n",
    "assert checkio(15) == \"Fizz Buzz\"\n",
    "assert checkio(6) == \"Fizz\"\n",
    "assert checkio(10) == \"Buzz\"\n",
    "assert checkio(7) == \"7\"\n",
    "\n",
    "#### Precondition: \n",
    "0 < number ≤ 1000"
   ]
  },
  {
   "cell_type": "code",
   "execution_count": 1,
   "metadata": {},
   "outputs": [],
   "source": [
    "# Taken from mission Just Fizz!\n",
    "\n",
    "def checkio(num: int) -> str:\n",
    "    if num % 3 == 0 and num % 5 == 0:\n",
    "        return \"Fizz Buzz\"\n",
    "    elif num % 3 == 0:\n",
    "        return \"Fizz\"\n",
    "    elif num % 5 == 0:\n",
    "        return \"Buzz\"\n",
    "    else:\n",
    "        num = str(num)\n",
    "        return num"
   ]
  },
  {
   "cell_type": "code",
   "execution_count": 2,
   "metadata": {},
   "outputs": [
    {
     "name": "stdout",
     "output_type": "stream",
     "text": [
      "Example:\n",
      "Fizz Buzz\n"
     ]
    }
   ],
   "source": [
    "print(\"Example:\")\n",
    "print(checkio(15))"
   ]
  }
 ],
 "metadata": {
  "kernelspec": {
   "display_name": "Python 3",
   "language": "python",
   "name": "python3"
  },
  "language_info": {
   "codemirror_mode": {
    "name": "ipython",
    "version": 3
   },
   "file_extension": ".py",
   "mimetype": "text/x-python",
   "name": "python",
   "nbconvert_exporter": "python",
   "pygments_lexer": "ipython3",
   "version": "3.10.5"
  }
 },
 "nbformat": 4,
 "nbformat_minor": 2
}
