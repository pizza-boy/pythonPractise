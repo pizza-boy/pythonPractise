{
 "cells": [
  {
   "cell_type": "markdown",
   "metadata": {},
   "source": [
    "# Leap Year Checking\n",
    "### Difficulty: Elementary+\n",
    "\n",
    "#### Check if the given year is leap year. A year is a leap year if it is divisible by 4, except for end-of-century years which must be divisible by 400. This means that the year 2000 was a leap year, although 1900 was not.\n",
    "\n",
    "Input: Integer (int).<br>\n",
    "Output: Logic value (bool).\n",
    "\n",
    "### Examples:\n",
    "assert is_leap_year(2000) == True<br>\n",
    "assert is_leap_year(1900) == False<br>\n",
    "assert is_leap_year(2004) == True<br>\n",
    "assert is_leap_year(2100) == False\n",
    "\n",
    "#### Precondition:\n",
    "1 <= year <= 105"
   ]
  },
  {
   "cell_type": "code",
   "execution_count": 1,
   "metadata": {},
   "outputs": [],
   "source": [
    "def is_leap_year(year: int) -> bool:\n",
    "    if year % 100 == 0:\n",
    "        if year % 400 == 0:\n",
    "            return True\n",
    "    else:\n",
    "        if year % 4 == 0:\n",
    "            return True\n",
    "    return False"
   ]
  },
  {
   "cell_type": "code",
   "execution_count": 2,
   "metadata": {},
   "outputs": [
    {
     "name": "stdout",
     "output_type": "stream",
     "text": [
      "Example:\n",
      "False\n"
     ]
    }
   ],
   "source": [
    "print(\"Example:\")\n",
    "print(is_leap_year(1891))"
   ]
  }
 ],
 "metadata": {
  "kernelspec": {
   "display_name": "Python 3",
   "language": "python",
   "name": "python3"
  },
  "language_info": {
   "codemirror_mode": {
    "name": "ipython",
    "version": 3
   },
   "file_extension": ".py",
   "mimetype": "text/x-python",
   "name": "python",
   "nbconvert_exporter": "python",
   "pygments_lexer": "ipython3",
   "version": "3.10.5"
  }
 },
 "nbformat": 4,
 "nbformat_minor": 2
}
