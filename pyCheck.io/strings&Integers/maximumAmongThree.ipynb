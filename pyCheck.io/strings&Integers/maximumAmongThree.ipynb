{
 "cells": [
  {
   "cell_type": "markdown",
   "metadata": {},
   "source": [
    "# Maximum Among Three\n",
    "### Difficulty: Elementary\n",
    "\n",
    "#### Given three integers, determine which one is the largest.\n",
    "\n",
    "Input: Three integers (int).<br>\n",
    "Output: Integer (int).\n",
    "\n",
    "### Examples:\n",
    "assert max_of_three(1, 2, 3) == 3 <br>\n",
    "assert max_of_three(3, 2, 1) == 3 <br>\n",
    "assert max_of_three(1, 3, 2) == 3 <br>\n",
    "assert max_of_three(0, 0, 0) == 0 <br>\n",
    "\n",
    "\n",
    "#### Precondition:\n",
    "-109 <= a, b, c <= 109."
   ]
  },
  {
   "cell_type": "code",
   "execution_count": 1,
   "metadata": {},
   "outputs": [],
   "source": [
    "def max_of_three(a: int, b: int, c: int) -> int:\n",
    "    maxEl = max(a,b,c)\n",
    "    return maxEl"
   ]
  },
  {
   "cell_type": "code",
   "execution_count": 2,
   "metadata": {},
   "outputs": [
    {
     "name": "stdout",
     "output_type": "stream",
     "text": [
      "Example:\n",
      "3\n"
     ]
    }
   ],
   "source": [
    "print(\"Example:\")\n",
    "print(max_of_three(1, 2, 3))"
   ]
  }
 ],
 "metadata": {
  "kernelspec": {
   "display_name": "Python 3",
   "language": "python",
   "name": "python3"
  },
  "language_info": {
   "codemirror_mode": {
    "name": "ipython",
    "version": 3
   },
   "file_extension": ".py",
   "mimetype": "text/x-python",
   "name": "python",
   "nbconvert_exporter": "python",
   "pygments_lexer": "ipython3",
   "version": "3.10.5"
  }
 },
 "nbformat": 4,
 "nbformat_minor": 2
}
