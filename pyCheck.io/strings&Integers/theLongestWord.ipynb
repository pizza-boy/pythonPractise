{
 "cells": [
  {
   "cell_type": "markdown",
   "metadata": {},
   "source": [
    "# The Longest Word\n",
    "### Difficulty: Elementary+\n",
    "\n",
    "#### This function should take a string without punctuation marks as an input and return the longest word in the string. If there are multiple words of the same length, return the first one that appears.\n",
    "\n",
    "Input: String (str). <br>\n",
    "Output: String (str).\n",
    "\n",
    "### Examples:\n",
    "assert longest_word(\"hello world\") == \"hello\" <br>\n",
    "assert longest_word(\"openai gpt-4\") == \"openai\" <br>\n",
    "assert longest_word(\"this is a sentence\") == \"sentence\" <br>\n",
    "assert longest_word(\"the quick brown fox\") == \"quick\"\n",
    "\n",
    "#### Preconditions:\n",
    "sentence ∈ string; <br>\n",
    "length(sentence) >= 0."
   ]
  },
  {
   "cell_type": "code",
   "execution_count": 1,
   "metadata": {},
   "outputs": [],
   "source": [
    "def longest_word(sentence: str) -> str:\n",
    "    words = sentence.split()\n",
    "    longest = \"\"\n",
    "    length = 0\n",
    "    for i in words:\n",
    "        if length < len(i):\n",
    "            length = len(i)\n",
    "            longest = i\n",
    "    return longest"
   ]
  },
  {
   "cell_type": "code",
   "execution_count": 2,
   "metadata": {},
   "outputs": [
    {
     "name": "stdout",
     "output_type": "stream",
     "text": [
      "Example:\n",
      "hello\n"
     ]
    }
   ],
   "source": [
    "print(\"Example:\")\n",
    "print(longest_word(\"hello world\"))"
   ]
  }
 ],
 "metadata": {
  "kernelspec": {
   "display_name": "Python 3",
   "language": "python",
   "name": "python3"
  },
  "language_info": {
   "codemirror_mode": {
    "name": "ipython",
    "version": 3
   },
   "file_extension": ".py",
   "mimetype": "text/x-python",
   "name": "python",
   "nbconvert_exporter": "python",
   "pygments_lexer": "ipython3",
   "version": "3.10.5"
  }
 },
 "nbformat": 4,
 "nbformat_minor": 2
}
