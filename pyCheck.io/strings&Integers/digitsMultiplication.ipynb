{
 "cells": [
  {
   "cell_type": "markdown",
   "metadata": {},
   "source": [
    "# Digits Multiplication\n",
    "### Difficulty: Elementary+\n",
    "\n",
    "##### You are given a positive number. Your function should calculate the product of the digits excluding any zeroes.<br>\n",
    "##### For example: The number given is 123405. The result will be 1*2*3*4*5=120 (don't forget to exclude zeroes).\n",
    "\n",
    "Input: A positive integer (int).<br>\n",
    "Output: The product of the digits as an integer (int).\n",
    "\n",
    "### Examples:\n",
    "assert checkio(123405) == 120 <br>\n",
    "assert checkio(999) == 729 <br>\n",
    "assert checkio(1000) == 1 <br>\n",
    "assert checkio(1111) == 1\n",
    "\n",
    "#### Precondition:\n",
    "0 < number < 106"
   ]
  },
  {
   "cell_type": "code",
   "execution_count": 1,
   "metadata": {},
   "outputs": [],
   "source": [
    "def checkio(number: int) -> int:\n",
    "    strNum = str(number)\n",
    "    res = 1\n",
    "    for i in strNum:\n",
    "        if int(i) == 0:\n",
    "            continue\n",
    "        else:\n",
    "            res *= int(i)\n",
    "\n",
    "    return res"
   ]
  },
  {
   "cell_type": "code",
   "execution_count": 4,
   "metadata": {},
   "outputs": [
    {
     "name": "stdout",
     "output_type": "stream",
     "text": [
      "Example:\n",
      "120\n"
     ]
    }
   ],
   "source": [
    "print(\"Example:\")\n",
    "print(checkio(123405))"
   ]
  }
 ],
 "metadata": {
  "kernelspec": {
   "display_name": "Python 3",
   "language": "python",
   "name": "python3"
  },
  "language_info": {
   "codemirror_mode": {
    "name": "ipython",
    "version": 3
   },
   "file_extension": ".py",
   "mimetype": "text/x-python",
   "name": "python",
   "nbconvert_exporter": "python",
   "pygments_lexer": "ipython3",
   "version": "3.10.5"
  }
 },
 "nbformat": 4,
 "nbformat_minor": 2
}
