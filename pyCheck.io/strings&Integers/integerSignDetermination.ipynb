{
 "cells": [
  {
   "cell_type": "markdown",
   "metadata": {},
   "source": [
    "# Integer Sign Determination\n",
    "### Difficulty: Elementary+\n",
    "\n",
    "\n",
    "## Identify whether a given integer is positive, negative, or zero and return a respective string: \"positive\", \"negative\" or \"zero\".\n",
    "Input: Integer (int).<br>\n",
    "Output: String (str).\n",
    "\n",
    "### Examples:\n",
    "assert determine_sign(5) == \"positive\"<br>\n",
    "assert determine_sign(0) == \"zero\"<br>\n",
    "assert determine_sign(-10) == \"negative\"<br>\n",
    "assert determine_sign(1) == \"positive\"<br>\n",
    "\n",
    "### Precondition:\n",
    "num ∈ Z."
   ]
  },
  {
   "cell_type": "code",
   "execution_count": 1,
   "metadata": {},
   "outputs": [],
   "source": [
    "def determine_sign(num: int) -> str:\n",
    "    if num > 0:\n",
    "        return \"positive\"\n",
    "    elif num == 0:\n",
    "        return \"zero\"\n",
    "    else:\n",
    "        return \"negative\""
   ]
  },
  {
   "cell_type": "code",
   "execution_count": 2,
   "metadata": {},
   "outputs": [
    {
     "name": "stdout",
     "output_type": "stream",
     "text": [
      "Example:\n",
      "positive\n"
     ]
    }
   ],
   "source": [
    "print(\"Example:\")\n",
    "print(determine_sign(11))"
   ]
  }
 ],
 "metadata": {
  "kernelspec": {
   "display_name": "Python 3",
   "language": "python",
   "name": "python3"
  },
  "language_info": {
   "codemirror_mode": {
    "name": "ipython",
    "version": 3
   },
   "file_extension": ".py",
   "mimetype": "text/x-python",
   "name": "python",
   "nbconvert_exporter": "python",
   "pygments_lexer": "ipython3",
   "version": "3.10.5"
  }
 },
 "nbformat": 4,
 "nbformat_minor": 2
}
