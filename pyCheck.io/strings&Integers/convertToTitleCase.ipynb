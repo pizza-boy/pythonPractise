{
 "cells": [
  {
   "cell_type": "markdown",
   "metadata": {},
   "source": [
    "# Convert To Title Case\n",
    "### Difficulty Simple\n",
    "\n",
    "#### Your function should take a string as an input and convert all the first letters of the words in the string to uppercase, making the string a title case (other letters must be in lowercase).\n",
    "\n",
    "Input: Original string (str). <br>\n",
    "Output: Converted string (str).\n",
    "\n",
    "### Examples:\n",
    "assert to_title_case(\"hello world\") == \"Hello World\" <br>\n",
    "assert to_title_case(\"openai gpt-4\") == \"Openai Gpt-4\" <br>\n",
    "assert to_title_case(\"this is a title\") == \"This Is A Title\" <br>\n",
    "assert to_title_case(\"THE QUICK BROWN FOX\") == \"The Quick Brown Fox\" <br>\n",
    "\n",
    "#### Preconditions:\n",
    "sentence ∈ string;\n",
    "length(sentence) >= 0."
   ]
  },
  {
   "cell_type": "code",
   "execution_count": 1,
   "metadata": {},
   "outputs": [],
   "source": [
    "def to_title_case(sentence: str) -> str:\n",
    "    words = sentence.split()\n",
    "    title_case = [word.capitalize() for word in words]\n",
    "    title_sentence = ' '.join(title_case) \n",
    "    return title_sentence"
   ]
  },
  {
   "cell_type": "code",
   "execution_count": 2,
   "metadata": {},
   "outputs": [
    {
     "name": "stdout",
     "output_type": "stream",
     "text": [
      "Example:\n",
      "Hello World\n"
     ]
    }
   ],
   "source": [
    "print(\"Example:\")\n",
    "print(to_title_case(\"hello world\"))"
   ]
  }
 ],
 "metadata": {
  "kernelspec": {
   "display_name": "Python 3",
   "language": "python",
   "name": "python3"
  },
  "language_info": {
   "codemirror_mode": {
    "name": "ipython",
    "version": 3
   },
   "file_extension": ".py",
   "mimetype": "text/x-python",
   "name": "python",
   "nbconvert_exporter": "python",
   "pygments_lexer": "ipython3",
   "version": "3.10.5"
  }
 },
 "nbformat": 4,
 "nbformat_minor": 2
}
