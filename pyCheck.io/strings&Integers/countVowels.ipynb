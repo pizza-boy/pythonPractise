{
 "cells": [
  {
   "cell_type": "markdown",
   "metadata": {},
   "source": [
    "# Count Vowels\n",
    "### Difficulty: Elementary+\n",
    "\n",
    "#### This function should take a string as an input and return the count of vowels (a, e, i, o, u) in the string. The function should be case-insensitive.\n",
    "\n",
    "Input: String (str). <br>\n",
    "Output: Integer (int).\n",
    "\n",
    "### Examples:\n",
    "assert count_vowels(\"hello\") == 2 <br>\n",
    "assert count_vowels(\"openai\") == 4 <br>\n",
    "assert count_vowels(\"typescript\") == 2 <br>\n",
    "assert count_vowels(\"a\") == 1\n",
    "\n",
    "#### Preconditions:\n",
    "text ∈ string;\n",
    "length(text) >= 0."
   ]
  },
  {
   "cell_type": "code",
   "execution_count": 1,
   "metadata": {},
   "outputs": [],
   "source": [
    "def count_vowels(text: str) -> int:\n",
    "    text = text.lower()\n",
    "    count = 0\n",
    "    for i in text:\n",
    "        if i == \"a\" or i == \"e\" or i == \"i\" or i == \"o\" or i == \"u\":\n",
    "            count += 1\n",
    "    return count"
   ]
  },
  {
   "cell_type": "code",
   "execution_count": 2,
   "metadata": {},
   "outputs": [
    {
     "name": "stdout",
     "output_type": "stream",
     "text": [
      "Example:\n",
      "2\n"
     ]
    }
   ],
   "source": [
    "print(\"Example:\")\n",
    "print(count_vowels(\"Hello\"))"
   ]
  }
 ],
 "metadata": {
  "kernelspec": {
   "display_name": "Python 3",
   "language": "python",
   "name": "python3"
  },
  "language_info": {
   "codemirror_mode": {
    "name": "ipython",
    "version": 3
   },
   "file_extension": ".py",
   "mimetype": "text/x-python",
   "name": "python",
   "nbconvert_exporter": "python",
   "pygments_lexer": "ipython3",
   "version": "3.10.5"
  }
 },
 "nbformat": 4,
 "nbformat_minor": 2
}
