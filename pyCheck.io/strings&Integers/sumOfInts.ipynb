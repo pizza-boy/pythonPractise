{
 "cells": [
  {
   "cell_type": "markdown",
   "metadata": {},
   "source": [
    "# Sum of Integers\n",
    "### Difficulty: Elementary\n",
    "\n",
    "#### Calculate sum of integers from 1 to given N (including).\n",
    "\n",
    "Input: Integer (int). <br>\n",
    "Output: Integer (int).\n",
    "\n",
    "### Examples:\n",
    "assert sum_upto_n(1) == 1\n",
    "assert sum_upto_n(2) == 3\n",
    "assert sum_upto_n(3) == 6\n",
    "assert sum_upto_n(4) == 10\n",
    "\n",
    "#### Precondition:\n",
    "1 ≤ N ≤ 900."
   ]
  },
  {
   "cell_type": "code",
   "execution_count": 1,
   "metadata": {},
   "outputs": [],
   "source": [
    "def sum_upto_n(N: int) -> int:\n",
    "    sum = 0\n",
    "    for i in range(0, N+1):\n",
    "        sum += i\n",
    "    return sum"
   ]
  },
  {
   "cell_type": "code",
   "execution_count": 2,
   "metadata": {},
   "outputs": [
    {
     "name": "stdout",
     "output_type": "stream",
     "text": [
      "Example:\n",
      "66\n"
     ]
    }
   ],
   "source": [
    "print(\"Example:\")\n",
    "print(sum_upto_n(11))"
   ]
  }
 ],
 "metadata": {
  "kernelspec": {
   "display_name": "Python 3",
   "language": "python",
   "name": "python3"
  },
  "language_info": {
   "codemirror_mode": {
    "name": "ipython",
    "version": 3
   },
   "file_extension": ".py",
   "mimetype": "text/x-python",
   "name": "python",
   "nbconvert_exporter": "python",
   "pygments_lexer": "ipython3",
   "version": "3.10.5"
  }
 },
 "nbformat": 4,
 "nbformat_minor": 2
}
