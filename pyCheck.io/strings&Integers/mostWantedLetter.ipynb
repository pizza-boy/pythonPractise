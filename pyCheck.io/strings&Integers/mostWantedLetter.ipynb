{
 "cells": [
  {
   "cell_type": "markdown",
   "metadata": {},
   "source": [
    "# The Most Wanted Letter\n",
    "### Difficulty: Elementary+\n",
    "\n",
    "##### You are given a text, which contains different English letters and punctuation symbols. You should find the most frequent letter in the text. The letter returned must be in lower case. While checking for the most wanted letter, casing does not matter, so for the purpose of your search, \"A\" == \"a\". Make sure you do not count punctuation symbols, digits and whitespaces, only letters.\n",
    "\n",
    "##### If you have two or more letters with the same frequency, then return the letter which comes first in the Latin alphabet. For example -- \"one\" contains \"o\", \"n\", \"e\" only once for each, thus we choose \"e\".\n",
    "\n",
    "Input: A text for analysis as a string (str).<br>\n",
    "Output: The most frequent letter in lower case as a string (str).\n",
    "\n",
    "### Examples:\n",
    "assert checkio(\"Hello World!\") == \"l\" <br>\n",
    "assert checkio(\"How do you do?\") == \"o\" <br>\n",
    "assert checkio(\"One\") == \"e\" <br>\n",
    "assert checkio(\"Oops!\") == \"o\"\n",
    "\n",
    "#### Precondition:\n",
    "A text contains only ASCII symbols. <br>\n",
    "0 < len(text) ≤ 105"
   ]
  },
  {
   "cell_type": "code",
   "execution_count": 21,
   "metadata": {},
   "outputs": [],
   "source": [
    "def checkio(text: str) -> str:\n",
    "    text = text.lower()\n",
    "    letter_counts = {}\n",
    "\n",
    "    for char in text:\n",
    "        if char.isalpha():\n",
    "            if char in letter_counts:\n",
    "                letter_counts[char] += 1\n",
    "            else:\n",
    "                letter_counts[char] = 1\n",
    "    \n",
    "    most_frequent = None  \n",
    "    max_count = 0\n",
    "\n",
    "    for key in sorted(letter_counts):\n",
    "        if letter_counts[key] > max_count:\n",
    "            max_count = letter_counts[key]\n",
    "            most_frequent = key\n",
    "\n",
    "    return most_frequent"
   ]
  },
  {
   "cell_type": "code",
   "execution_count": 22,
   "metadata": {},
   "outputs": [
    {
     "name": "stdout",
     "output_type": "stream",
     "text": [
      "Example:\n",
      "l\n"
     ]
    }
   ],
   "source": [
    "print(\"Example:\")\n",
    "print(checkio(\"Hello World!\"))"
   ]
  }
 ],
 "metadata": {
  "kernelspec": {
   "display_name": "Python 3",
   "language": "python",
   "name": "python3"
  },
  "language_info": {
   "codemirror_mode": {
    "name": "ipython",
    "version": 3
   },
   "file_extension": ".py",
   "mimetype": "text/x-python",
   "name": "python",
   "nbconvert_exporter": "python",
   "pygments_lexer": "ipython3",
   "version": "3.10.5"
  }
 },
 "nbformat": 4,
 "nbformat_minor": 2
}
