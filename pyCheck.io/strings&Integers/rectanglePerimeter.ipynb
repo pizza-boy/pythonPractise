{
 "cells": [
  {
   "cell_type": "markdown",
   "metadata": {},
   "source": [
    "# Rectangle Perimeter\n",
    "### Difficulty: Elementary\n",
    "\n",
    "\n",
    "## This function should take two positive numbers (length and width) as inputs and return the perimeter of a rectangle.\n",
    "Input: Two integers (int).\n",
    "Output: Integer (int).\n",
    "\n",
    "### Examples:\n",
    "assert rectangle_perimeter(2, 4) == 12\n",
    "assert rectangle_perimeter(3, 5) == 16\n",
    "assert rectangle_perimeter(10, 20) == 60\n",
    "assert rectangle_perimeter(7, 2) == 18\n",
    "\n",
    "### Preconditions:\n",
    "length, width ∈ R;\n",
    "length, width > 0."
   ]
  },
  {
   "cell_type": "code",
   "execution_count": 1,
   "metadata": {},
   "outputs": [],
   "source": [
    "def rectangle_perimeter(length: int, width: int) -> int:\n",
    "    hperimeter = length + width\n",
    "    return 2 * hperimeter"
   ]
  },
  {
   "cell_type": "code",
   "execution_count": 2,
   "metadata": {},
   "outputs": [
    {
     "name": "stdout",
     "output_type": "stream",
     "text": [
      "Example:\n",
      "10\n"
     ]
    }
   ],
   "source": [
    "print(\"Example:\")\n",
    "print(rectangle_perimeter(3, 2))"
   ]
  }
 ],
 "metadata": {
  "kernelspec": {
   "display_name": "Python 3",
   "language": "python",
   "name": "python3"
  },
  "language_info": {
   "codemirror_mode": {
    "name": "ipython",
    "version": 3
   },
   "file_extension": ".py",
   "mimetype": "text/x-python",
   "name": "python",
   "nbconvert_exporter": "python",
   "pygments_lexer": "ipython3",
   "version": "3.10.5"
  }
 },
 "nbformat": 4,
 "nbformat_minor": 2
}
