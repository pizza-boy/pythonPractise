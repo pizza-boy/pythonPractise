{
 "cells": [
  {
   "cell_type": "markdown",
   "metadata": {},
   "source": [
    "# Conversion from CamelCase\n",
    "### Difficulty: Elementary+\n",
    "\n",
    "##### Your mission is to convert the name of a function from CamelCase (\"MyFunctionName\") into the Python format (\"my_function_name\") where all chars are in lowercase and all words are concatenated with an intervening underscore symbol \"_\".\n",
    "\n",
    "\n",
    "Input: A function name as a CamelCase string (str).<br>\n",
    "Output: The same string (str), but in under_score.\n",
    "\n",
    "### Examples:\n",
    "assert from_camel_case(\"MyFunctionName\") == \"my_function_name\" <br>\n",
    "assert from_camel_case(\"IPhone\") == \"i_phone\"\n",
    "\n",
    "#### Precondition:\n",
    "0 < len(string) <= 100 <br>\n",
    "Input data won't contain any numbers."
   ]
  },
  {
   "cell_type": "code",
   "execution_count": 9,
   "metadata": {},
   "outputs": [],
   "source": [
    "def from_camel_case(name: str) -> str:\n",
    "    res = name[0].lower()\n",
    "    for i in name[1:]:\n",
    "        if i.isupper():\n",
    "            res += \"_\" + i.lower()\n",
    "        else:\n",
    "            res += i\n",
    "\n",
    "    return res"
   ]
  },
  {
   "cell_type": "code",
   "execution_count": 11,
   "metadata": {},
   "outputs": [
    {
     "name": "stdout",
     "output_type": "stream",
     "text": [
      "Example:\n",
      "i_phone\n"
     ]
    }
   ],
   "source": [
    "print(\"Example:\")\n",
    "print(from_camel_case(\"IPhone\"))"
   ]
  }
 ],
 "metadata": {
  "kernelspec": {
   "display_name": "Python 3",
   "language": "python",
   "name": "python3"
  },
  "language_info": {
   "codemirror_mode": {
    "name": "ipython",
    "version": 3
   },
   "file_extension": ".py",
   "mimetype": "text/x-python",
   "name": "python",
   "nbconvert_exporter": "python",
   "pygments_lexer": "ipython3",
   "version": "3.10.5"
  }
 },
 "nbformat": 4,
 "nbformat_minor": 2
}
