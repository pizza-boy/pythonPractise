{
 "cells": [
  {
   "cell_type": "markdown",
   "metadata": {},
   "source": [
    "# Number With Exclamation\n",
    "### Difficulty: Elementary+\n",
    "\n",
    "#### This function should take a non-negative integer as an input and return the factorial of that number. The factorial of a non-negative integer n is the product of all positive integers less than or equal to n .\n",
    "\n",
    "Input: Integer (int). <br>\n",
    "Output: Integer (int).\n",
    "\n",
    "Examples:\n",
    "assert factorial(0) == 1 <br>\n",
    "assert factorial(1) == 1 <br>\n",
    "assert factorial(5) == 120 <br>\n",
    "assert factorial(10) == 3628800 <br>\n",
    "\n",
    "#### Precondition:\n",
    "n ∈ N₀"
   ]
  },
  {
   "cell_type": "code",
   "execution_count": 1,
   "metadata": {},
   "outputs": [],
   "source": [
    "def factorial(n: int) -> int:\n",
    "    if n < 2:\n",
    "        return 1\n",
    "    else:\n",
    "        return n * factorial(n - 1)"
   ]
  },
  {
   "cell_type": "code",
   "execution_count": 2,
   "metadata": {},
   "outputs": [
    {
     "name": "stdout",
     "output_type": "stream",
     "text": [
      "Example:\n",
      "24\n"
     ]
    }
   ],
   "source": [
    "print(\"Example:\")\n",
    "print(factorial(4))"
   ]
  }
 ],
 "metadata": {
  "kernelspec": {
   "display_name": "Python 3",
   "language": "python",
   "name": "python3"
  },
  "language_info": {
   "codemirror_mode": {
    "name": "ipython",
    "version": 3
   },
   "file_extension": ".py",
   "mimetype": "text/x-python",
   "name": "python",
   "nbconvert_exporter": "python",
   "pygments_lexer": "ipython3",
   "version": "3.10.5"
  }
 },
 "nbformat": 4,
 "nbformat_minor": 2
}
