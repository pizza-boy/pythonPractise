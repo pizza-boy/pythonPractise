{
 "cells": [
  {
   "cell_type": "markdown",
   "metadata": {},
   "source": [
    "# Backward String\n",
    "### Difficulty: Elementary\n",
    "\n",
    "### You should return a given string in reverse order.\n",
    "\n",
    "Input: A string (str). <br>\n",
    "Output: A string (str).\n",
    "\n",
    "#### Examples:\n",
    "assert backward_string(\"val\") == \"lav\" <br>\n",
    "assert backward_string(\"\") == \"\" <br>\n",
    "assert backward_string(\"ohho\") == \"ohho\" <br>\n",
    "assert backward_string(\"123456789\") == \"987654321\" <br>"
   ]
  },
  {
   "cell_type": "code",
   "execution_count": 1,
   "metadata": {},
   "outputs": [],
   "source": [
    "def backward_string(val: str) -> str:\n",
    "    return val[::-1]"
   ]
  },
  {
   "cell_type": "code",
   "execution_count": 3,
   "metadata": {},
   "outputs": [
    {
     "name": "stdout",
     "output_type": "stream",
     "text": [
      "Example:\n",
      "eulav\n"
     ]
    }
   ],
   "source": [
    "print(\"Example:\")\n",
    "print(backward_string(\"value\"))"
   ]
  }
 ],
 "metadata": {
  "kernelspec": {
   "display_name": "Python 3",
   "language": "python",
   "name": "python3"
  },
  "language_info": {
   "codemirror_mode": {
    "name": "ipython",
    "version": 3
   },
   "file_extension": ".py",
   "mimetype": "text/x-python",
   "name": "python",
   "nbconvert_exporter": "python",
   "pygments_lexer": "ipython3",
   "version": "3.10.5"
  }
 },
 "nbformat": 4,
 "nbformat_minor": 2
}
