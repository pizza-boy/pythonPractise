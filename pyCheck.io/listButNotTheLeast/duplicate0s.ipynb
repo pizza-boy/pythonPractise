{
 "cells": [
  {
   "cell_type": "markdown",
   "metadata": {},
   "source": [
    "# Duplicate Zeros\n",
    "### Difficulty: Elementary+\n",
    "\n",
    "##### \"Sometimes, zeros resemble very tasty donut. And every time we finish a donut, we want another, and then another, and then another...\"\n",
    "\n",
    "##### You are given list of integers (int). Your task in this mission is to duplicate (..., 🍩, ... --> ..., 🍩, 🍩, ...) all zeros (think about donuts ;-P) and return the result as any Iterable. Let's look on the example:\n",
    "\n",
    "Input: List of integers (int).<br>\n",
    "Output: A list on another Iterable (tuple, generator, iterator) of integers (int).\n",
    "\n",
    "### Examples:\n",
    "assert list(duplicate_zeros([1, 0, 2, 3, 0, 4, 5, 0])) == [\n",
    "    1,\n",
    "    0,\n",
    "    0,\n",
    "    2,\n",
    "    3,\n",
    "    0,\n",
    "    0,\n",
    "    4,\n",
    "    5,\n",
    "    0,\n",
    "    0,\n",
    "]<br>\n",
    "assert list(duplicate_zeros([0, 0, 0, 0])) == [0, 0, 0, 0, 0, 0, 0, 0]<br>\n",
    "assert list(duplicate_zeros([100, 10, 0, 101, 1000])) == [100, 10, 0, 0, 101, 1000]"
   ]
  },
  {
   "cell_type": "code",
   "execution_count": 5,
   "metadata": {},
   "outputs": [],
   "source": [
    "from collections.abc import Iterable\n",
    "\n",
    "def duplicate_zeros(donuts: list[int]) -> Iterable[int]:\n",
    "    result = []\n",
    "    for i in donuts:\n",
    "        result.append(i)\n",
    "        if i == 0:\n",
    "            result.append(0)\n",
    "    \n",
    "    return result"
   ]
  },
  {
   "cell_type": "code",
   "execution_count": 6,
   "metadata": {},
   "outputs": [
    {
     "name": "stdout",
     "output_type": "stream",
     "text": [
      "Example:\n",
      "[1, 0, 0, 2, 3, 0, 0, 4, 5, 0, 0]\n"
     ]
    }
   ],
   "source": [
    "print(\"Example:\")\n",
    "print(list(duplicate_zeros([1, 0, 2, 3, 0, 4, 5, 0])))"
   ]
  }
 ],
 "metadata": {
  "kernelspec": {
   "display_name": "Python 3",
   "language": "python",
   "name": "python3"
  },
  "language_info": {
   "codemirror_mode": {
    "name": "ipython",
    "version": 3
   },
   "file_extension": ".py",
   "mimetype": "text/x-python",
   "name": "python",
   "nbconvert_exporter": "python",
   "pygments_lexer": "ipython3",
   "version": "3.10.5"
  }
 },
 "nbformat": 4,
 "nbformat_minor": 2
}
