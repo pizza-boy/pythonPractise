{
 "cells": [
  {
   "cell_type": "markdown",
   "metadata": {},
   "source": [
    "# Index Power\n",
    "### Difficulty: Elementary\n",
    "\n",
    "##### You are given a list with positive integers (int) and an integer (int) N. You should find the N-th power of the element in the list with the index N. If N is outside of the list, then return -1. Don't forget that the first element has the index 0.\n",
    "\n",
    "Let's look at a few examples:\n",
    "- list = [1, 2, 3, 4] and N = 2, then the result is 32 == 9;\n",
    "- list = [1, 2, 3] and N = 3, but N is outside of the list, so the result is -1.\n",
    "\n",
    "Input: Two arguments.A list of integers (int) and an integer (int).<br>\n",
    "Output: The result as an integer (int).\n",
    "\n",
    "### Examples:\n",
    "assert index_power([1, 2, 3, 4], 2) == 9<br>\n",
    "assert index_power([1, 3, 10, 100], 3) == 1000000<br>\n",
    "assert index_power([0, 1], 0) == 1<br>\n",
    "assert index_power([1, 2], 3) == -1\n",
    "\n",
    "### Precondition: 0 < len(array) ≤ 10\n",
    "0 ≤ N <br>\n",
    "all(0 ≤ x ≤ 100 for x in array)"
   ]
  },
  {
   "cell_type": "code",
   "execution_count": 1,
   "metadata": {},
   "outputs": [],
   "source": [
    "def index_power(ar: list[int], n: int) -> int:\n",
    "    if n >= len(ar):\n",
    "        return -1 \n",
    "    return ar[n]**n"
   ]
  },
  {
   "cell_type": "code",
   "execution_count": 5,
   "metadata": {},
   "outputs": [
    {
     "name": "stdout",
     "output_type": "stream",
     "text": [
      "Example:\n",
      "9\n"
     ]
    }
   ],
   "source": [
    "print(\"Example:\")\n",
    "print(index_power([1, 2, 3], 2))"
   ]
  }
 ],
 "metadata": {
  "kernelspec": {
   "display_name": "Python 3",
   "language": "python",
   "name": "python3"
  },
  "language_info": {
   "codemirror_mode": {
    "name": "ipython",
    "version": 3
   },
   "file_extension": ".py",
   "mimetype": "text/x-python",
   "name": "python",
   "nbconvert_exporter": "python",
   "pygments_lexer": "ipython3",
   "version": "3.10.5"
  }
 },
 "nbformat": 4,
 "nbformat_minor": 2
}
