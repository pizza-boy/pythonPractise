{
 "cells": [
  {
   "cell_type": "markdown",
   "metadata": {},
   "source": [
    "# Median\n",
    "### Difficulty: Elementary+\n",
    "\n",
    "##### A median is a numerical value separating the upper half of a sorted list of numbers from the lower half. In list where there are an odd number of entities, the median is the number found in the middle of the list. If the list contains an even number of entities, then there is no single middle value, instead the median becomes the average of the two numbers found in the middle. For this mission, you are given a non-empty list of integers (int). With it, you must separate the upper half of the numbers from the lower half and find the median.\n",
    "\n",
    "Input: List with integers (int).<br>\n",
    "Output: The median as an integer or float (int | float).\n",
    "\n",
    "### Examples:\n",
    "assert checkio([1, 2, 3, 4, 5]) == 3<br>\n",
    "assert checkio([3, 1, 2, 5, 3]) == 3<br>\n",
    "assert checkio([1, 300, 2, 200, 1]) == 2<br>\n",
    "assert checkio([3, 6, 20, 99, 10, 15]) == 12.5<br>\n",
    "\n",
    "#### Preconditions:\n",
    "1 < len(data) ≤ 1000<br>\n",
    "all(0 ≤ x < 10 ** 6 for x in data)"
   ]
  },
  {
   "cell_type": "code",
   "execution_count": 17,
   "metadata": {},
   "outputs": [],
   "source": [
    "def checkio(data: list[int]) -> int | float:\n",
    "    data.sort()\n",
    "    if len(data) % 2 != 0:\n",
    "        return data[len(data)//2]\n",
    "    else:\n",
    "        return ( data[len(data)//2] + data[ (len(data)//2) - 1] ) / 2"
   ]
  },
  {
   "cell_type": "code",
   "execution_count": 21,
   "metadata": {},
   "outputs": [
    {
     "name": "stdout",
     "output_type": "stream",
     "text": [
      "Example:\n",
      "4\n",
      "12.5\n"
     ]
    }
   ],
   "source": [
    "print(\"Example:\")\n",
    "print(checkio([1, 2, 3, 4, 5, 6, 7]))\n",
    "print(checkio([3, 6, 20, 99, 10, 15]))"
   ]
  }
 ],
 "metadata": {
  "kernelspec": {
   "display_name": "Python 3",
   "language": "python",
   "name": "python3"
  },
  "language_info": {
   "codemirror_mode": {
    "name": "ipython",
    "version": 3
   },
   "file_extension": ".py",
   "mimetype": "text/x-python",
   "name": "python",
   "nbconvert_exporter": "python",
   "pygments_lexer": "ipython3",
   "version": "3.10.5"
  }
 },
 "nbformat": 4,
 "nbformat_minor": 2
}
