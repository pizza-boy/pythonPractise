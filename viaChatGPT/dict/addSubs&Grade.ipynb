{
 "cells": [
  {
   "cell_type": "markdown",
   "metadata": {},
   "source": [
    "# Given a dictionary of dictionaries, write a function to add a new subject and grade for each student.\n",
    "students = {'Alice': {'math': 90, 'science': 85}, 'Bob': {'math': 75, 'science': 95}}"
   ]
  },
  {
   "cell_type": "code",
   "execution_count": 1,
   "metadata": {},
   "outputs": [],
   "source": [
    "students = {'Alice': {'math': 90, 'science': 85}, 'Bob': {'math': 75, 'science': 95}}"
   ]
  },
  {
   "cell_type": "code",
   "execution_count": 2,
   "metadata": {},
   "outputs": [],
   "source": [
    "def add_subject(students, subject, grades):\n",
    "    for student, grade in grades.items():\n",
    "        if student in students:\n",
    "            students[student][subject] = grade\n",
    "\n",
    "new_grades = {'Alice': 88, 'Bob': 92}\n",
    "add_subject(students, 'history', new_grades)"
   ]
  },
  {
   "cell_type": "code",
   "execution_count": 3,
   "metadata": {},
   "outputs": [
    {
     "data": {
      "text/plain": [
       "{'Alice': {'math': 90, 'science': 85, 'history': 88},\n",
       " 'Bob': {'math': 75, 'science': 95, 'history': 92}}"
      ]
     },
     "execution_count": 3,
     "metadata": {},
     "output_type": "execute_result"
    }
   ],
   "source": [
    "students "
   ]
  },
  {
   "cell_type": "markdown",
   "metadata": {},
   "source": [
    "### Explanation:\n",
    "\n",
    "#### Function Definition:\n",
    "`def add_subject(students, subject, grades):`\n",
    "- students: A dictionary where each key is a student name and the value is another dictionary of subjects and grades.\n",
    "- subject: A string representing the new subject to be added.\n",
    "- grades: A dictionary where each key is a student name and the value is the grade for the new subject.\n",
    "\n",
    "#### Loop through grades using items():\n",
    "`for student, grade in grades.items():`\n",
    "- grades.items() returns key-value pairs (student name and grade) from the grades dictionary.\n",
    "The loop iterates over each student-grade pair.\n",
    "\n",
    "#### Check if the student exists in the students dictionary:\n",
    "`if student in students:`\n",
    "- This condition checks if the current student from grades is also in the students dictionary.\n",
    "\n",
    "#### Add the new subject and grade to the student's record:\n",
    "`students[student][subject] = grade`\n",
    "- If the student is in the students dictionary, the new subject and its corresponding grade are added to the student's dictionary.\n",
    "\n",
    "#### Example Usage:\n",
    "`students = {'Alice': {'math': 90, 'science': 85}, 'Bob': {'math': 75, 'science': 95}}`\n",
    "`new_grades = {'Alice': 88, 'Bob': 92}`\n",
    "`add_subject(students, 'history', new_grades)`\n",
    "- Before calling add_subject, the students dictionary has no 'history' subject.\n",
    "- After calling the function, the students dictionary is updated to include the 'history' subject with the provided grades.\n",
    "\n",
    "#### Final students dictionary:\n",
    "{\n",
    "    'Alice': {'math': 90, 'science': 85, 'history': 88},\n",
    "    'Bob': {'math': 75, 'science': 95, 'history': 92}\n",
    "}\n",
    "This function effectively adds a new subject and its corresponding grade for each student listed in the grades dictionary."
   ]
  }
 ],
 "metadata": {
  "kernelspec": {
   "display_name": "Python 3",
   "language": "python",
   "name": "python3"
  },
  "language_info": {
   "codemirror_mode": {
    "name": "ipython",
    "version": 3
   },
   "file_extension": ".py",
   "mimetype": "text/x-python",
   "name": "python",
   "nbconvert_exporter": "python",
   "pygments_lexer": "ipython3",
   "version": "3.10.5"
  }
 },
 "nbformat": 4,
 "nbformat_minor": 2
}
