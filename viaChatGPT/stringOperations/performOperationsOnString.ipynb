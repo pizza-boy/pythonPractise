{
 "cells": [
  {
   "cell_type": "markdown",
   "metadata": {},
   "source": [
    "# Given the string s = \"Hello, World!\", perform the following operations.\n",
    "\n",
    "## Extract the substring \"Hello\".\n",
    "## Convert the string to uppercase.\n",
    "## Replace \"World\" with \"Python\"."
   ]
  },
  {
   "cell_type": "code",
   "execution_count": 1,
   "metadata": {},
   "outputs": [],
   "source": [
    "s = \"Hello, World!\""
   ]
  },
  {
   "cell_type": "code",
   "execution_count": 2,
   "metadata": {},
   "outputs": [
    {
     "name": "stdout",
     "output_type": "stream",
     "text": [
      "Hello \n",
      " HELLO, WORLD! \n",
      " Hello, Python!\n"
     ]
    }
   ],
   "source": [
    "s_sub = s[:5]\n",
    "s_upper = s.upper()\n",
    "s_replaced = s.replace(\"World\", \"Python\")\n",
    "\n",
    "print(s_sub, \"\\n\", s_upper, \"\\n\", s_replaced)"
   ]
  }
 ],
 "metadata": {
  "kernelspec": {
   "display_name": "Python 3",
   "language": "python",
   "name": "python3"
  },
  "language_info": {
   "codemirror_mode": {
    "name": "ipython",
    "version": 3
   },
   "file_extension": ".py",
   "mimetype": "text/x-python",
   "name": "python",
   "nbconvert_exporter": "python",
   "pygments_lexer": "ipython3",
   "version": "3.10.5"
  }
 },
 "nbformat": 4,
 "nbformat_minor": 2
}
