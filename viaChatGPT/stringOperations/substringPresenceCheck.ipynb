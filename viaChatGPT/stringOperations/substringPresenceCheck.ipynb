{
 "cells": [
  {
   "cell_type": "markdown",
   "metadata": {},
   "source": [
    "# Write a function contains_substring that checks if a given substring is present in a string."
   ]
  },
  {
   "cell_type": "code",
   "execution_count": 1,
   "metadata": {},
   "outputs": [],
   "source": [
    "def contains_substring(string, substring):\n",
    "    if substring in string:\n",
    "        print(f\"{substring} found!\")\n",
    "    else:\n",
    "        print(f\"{substring} not found!\")"
   ]
  },
  {
   "cell_type": "code",
   "execution_count": 2,
   "metadata": {},
   "outputs": [
    {
     "name": "stdout",
     "output_type": "stream",
     "text": [
      "boi not found!\n",
      "Boi found!\n"
     ]
    }
   ],
   "source": [
    "contains_substring(\"PizzaBoi\", \"boi\")\n",
    "contains_substring(\"PizzaBoi\", \"Boi\")"
   ]
  }
 ],
 "metadata": {
  "kernelspec": {
   "display_name": "Python 3",
   "language": "python",
   "name": "python3"
  },
  "language_info": {
   "codemirror_mode": {
    "name": "ipython",
    "version": 3
   },
   "file_extension": ".py",
   "mimetype": "text/x-python",
   "name": "python",
   "nbconvert_exporter": "python",
   "pygments_lexer": "ipython3",
   "version": "3.10.5"
  }
 },
 "nbformat": 4,
 "nbformat_minor": 2
}
